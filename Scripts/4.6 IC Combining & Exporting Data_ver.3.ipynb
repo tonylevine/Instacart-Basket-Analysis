{
 "cells": [
  {
   "cell_type": "code",
   "execution_count": 1,
   "id": "1ac0d267-2ccf-4bf0-a263-260ea94fa66d",
   "metadata": {},
   "outputs": [],
   "source": [
    "# Import libraries\n",
    "\n",
    "import pandas as pd\n",
    "import numpy as np\n",
    "import os\n",
    "path = r'/home/scruffy/anaconda_projects/Instacart Basket Analysis/'\n",
    "# Import data to dataframes\n",
    "ords = pd.read_csv(os.path.join(path, '02 Data', 'Prepared Data', 'orders_checked.csv'))\n",
    "ords_prods = pd.read_csv(os.path.join(path, '02 Data', 'Original Data', 'orders_products_prior.csv'))"
   ]
  },
  {
   "cell_type": "markdown",
   "id": "a0480dd3-6a29-48a5-8163-f6142eadf0eb",
   "metadata": {},
   "source": [
    "# Check outputs"
   ]
  },
  {
   "cell_type": "code",
   "execution_count": 3,
   "id": "affbf329-86bb-4de5-aa68-7902cfbb9a08",
   "metadata": {},
   "outputs": [
    {
     "name": "stdout",
     "output_type": "stream",
     "text": [
      "(32434489, 4)\n",
      "   order_id  product_id  add_to_cart_order  reordered\n",
      "0         2       33120                  1          1\n",
      "1         2       28985                  2          1\n",
      "2         2        9327                  3          0\n",
      "3         2       45918                  4          1\n",
      "4         2       30035                  5          0\n"
     ]
    }
   ],
   "source": [
    "# Check the output\n",
    "print(ords_prods.shape)\n",
    "print(ords_prods.head())"
   ]
  },
  {
   "cell_type": "code",
   "execution_count": 4,
   "id": "3a0058fe-1cc3-4851-811c-57b293743a09",
   "metadata": {},
   "outputs": [
    {
     "data": {
      "text/plain": [
       "Index(['order_id', 'user_id', 'eval_set', 'order_number', 'order_dow',\n",
       "       'order_hour_of_day', 'days_since_prior_order', 'no_prior_orders'],\n",
       "      dtype='object')"
      ]
     },
     "execution_count": 4,
     "metadata": {},
     "output_type": "execute_result"
    }
   ],
   "source": [
    "ords.columns"
   ]
  },
  {
   "cell_type": "code",
   "execution_count": 5,
   "id": "23485fc2-c569-4f70-82ee-c5ef49f6f9b2",
   "metadata": {},
   "outputs": [
    {
     "name": "stdout",
     "output_type": "stream",
     "text": [
      "<class 'pandas.core.frame.DataFrame'>\n",
      "RangeIndex: 3421083 entries, 0 to 3421082\n",
      "Data columns (total 6 columns):\n",
      " #   Column                  Dtype  \n",
      "---  ------                  -----  \n",
      " 0   order_id                int64  \n",
      " 1   user_id                 int64  \n",
      " 2   order_number            int64  \n",
      " 3   order_dow               int64  \n",
      " 4   order_hour_of_day       int64  \n",
      " 5   days_since_prior_order  float64\n",
      "dtypes: float64(1), int64(5)\n",
      "memory usage: 156.6 MB\n"
     ]
    }
   ],
   "source": [
    "ords.drop(columns = {'eval_set', 'no_prior_orders'}, inplace = True)\n",
    "ords.info()"
   ]
  },
  {
   "cell_type": "markdown",
   "id": "ca689e2e-f7d6-470a-866b-a5e2cdd06015",
   "metadata": {},
   "source": [
    "# Change data types to conserve memory"
   ]
  },
  {
   "cell_type": "code",
   "execution_count": 7,
   "id": "fda4787d-0108-4c7d-9a30-2f1536a12e0f",
   "metadata": {},
   "outputs": [],
   "source": [
    "# Change types for ords data set\n",
    "\n",
    "ords['order_id']=ords['order_id'].astype('int32')\n",
    "ords['user_id'] = ords['user_id'].astype('int32')\n",
    "ords['order_number']=ords['order_number'].astype('int8')\n",
    "ords['order_dow']=ords['order_dow'].astype('int8')\n",
    "ords['order_hour_of_day']=ords['order_hour_of_day'].astype('int8')\n",
    "ords['days_since_prior_order']=ords['days_since_prior_order'].astype('float16')"
   ]
  },
  {
   "cell_type": "code",
   "execution_count": 8,
   "id": "1c9494cb-4f6f-42c7-bb7e-baf437a5d9d0",
   "metadata": {},
   "outputs": [
    {
     "name": "stdout",
     "output_type": "stream",
     "text": [
      "<class 'pandas.core.frame.DataFrame'>\n",
      "RangeIndex: 3421083 entries, 0 to 3421082\n",
      "Data columns (total 6 columns):\n",
      " #   Column                  Dtype  \n",
      "---  ------                  -----  \n",
      " 0   order_id                int32  \n",
      " 1   user_id                 int32  \n",
      " 2   order_number            int8   \n",
      " 3   order_dow               int8   \n",
      " 4   order_hour_of_day       int8   \n",
      " 5   days_since_prior_order  float16\n",
      "dtypes: float16(1), int32(2), int8(3)\n",
      "memory usage: 42.4 MB\n"
     ]
    }
   ],
   "source": [
    "# Check result\n",
    "ords.info()"
   ]
  },
  {
   "cell_type": "code",
   "execution_count": 9,
   "id": "e6b01ff7-80da-4716-b7f3-cdbeff604b29",
   "metadata": {},
   "outputs": [
    {
     "name": "stdout",
     "output_type": "stream",
     "text": [
      "<class 'pandas.core.frame.DataFrame'>\n",
      "RangeIndex: 32434489 entries, 0 to 32434488\n",
      "Data columns (total 4 columns):\n",
      " #   Column             Dtype\n",
      "---  ------             -----\n",
      " 0   order_id           int64\n",
      " 1   product_id         int64\n",
      " 2   add_to_cart_order  int64\n",
      " 3   reordered          int64\n",
      "dtypes: int64(4)\n",
      "memory usage: 989.8 MB\n"
     ]
    }
   ],
   "source": [
    "# Check ords_prods info\n",
    "ords_prods.info()"
   ]
  },
  {
   "cell_type": "code",
   "execution_count": 10,
   "id": "798e4955-3741-4af2-bf9f-63161c3d2cec",
   "metadata": {},
   "outputs": [],
   "source": [
    "# Change types for ords prods data set \n",
    "\n",
    "ords_prods['product_id'] =ords_prods['product_id'].astype('int32')\n",
    "ords_prods['reordered']=ords_prods['reordered'].astype('int8')\n",
    "ords_prods['add_to_cart_order']=ords_prods['add_to_cart_order'].astype('int32')\n",
    "ords_prods['order_id']=ords_prods['order_id'].astype('int32')"
   ]
  },
  {
   "cell_type": "code",
   "execution_count": 11,
   "id": "8c80df75-2cc5-402c-bd37-82df5db461f3",
   "metadata": {},
   "outputs": [
    {
     "name": "stdout",
     "output_type": "stream",
     "text": [
      "<class 'pandas.core.frame.DataFrame'>\n",
      "RangeIndex: 32434489 entries, 0 to 32434488\n",
      "Data columns (total 4 columns):\n",
      " #   Column             Dtype\n",
      "---  ------             -----\n",
      " 0   order_id           int32\n",
      " 1   product_id         int32\n",
      " 2   add_to_cart_order  int32\n",
      " 3   reordered          int8 \n",
      "dtypes: int32(3), int8(1)\n",
      "memory usage: 402.1 MB\n"
     ]
    }
   ],
   "source": [
    "# Check result\n",
    "ords_prods.info()"
   ]
  },
  {
   "cell_type": "markdown",
   "id": "e795e153-b4d4-468e-916b-4e2251231356",
   "metadata": {},
   "source": [
    "# Merge DataFrames"
   ]
  },
  {
   "cell_type": "code",
   "execution_count": 13,
   "id": "0065ff4f-78e2-4a39-a633-0a41267d9c7c",
   "metadata": {},
   "outputs": [],
   "source": [
    "# Merge DataFrames\n",
    "ords_prods_merged = ords.merge(ords_prods, on = 'order_id', indicator = True)"
   ]
  },
  {
   "cell_type": "code",
   "execution_count": 14,
   "id": "db37b066-16e5-4bb0-a59c-a9c53d7034ce",
   "metadata": {},
   "outputs": [
    {
     "name": "stdout",
     "output_type": "stream",
     "text": [
      "   order_id  user_id  order_number  order_dow  order_hour_of_day  \\\n",
      "0   2539329        1             1          2                  8   \n",
      "1   2539329        1             1          2                  8   \n",
      "2   2539329        1             1          2                  8   \n",
      "3   2539329        1             1          2                  8   \n",
      "4   2539329        1             1          2                  8   \n",
      "\n",
      "   days_since_prior_order  product_id  add_to_cart_order  reordered _merge  \n",
      "0                     NaN         196                  1          0   both  \n",
      "1                     NaN       14084                  2          0   both  \n",
      "2                     NaN       12427                  3          0   both  \n",
      "3                     NaN       26088                  4          0   both  \n",
      "4                     NaN       26405                  5          0   both  \n"
     ]
    }
   ],
   "source": [
    "# Check result\n",
    "print(ords_prods_merged.head())"
   ]
  },
  {
   "cell_type": "code",
   "execution_count": 15,
   "id": "ff48588a-dad5-4c52-ba47-55e016ab28c5",
   "metadata": {},
   "outputs": [
    {
     "name": "stdout",
     "output_type": "stream",
     "text": [
      "_merge\n",
      "both          32434489\n",
      "left_only            0\n",
      "right_only           0\n",
      "Name: count, dtype: int64\n",
      "(32434489, 10)\n",
      "<class 'pandas.core.frame.DataFrame'>\n",
      "RangeIndex: 32434489 entries, 0 to 32434488\n",
      "Data columns (total 10 columns):\n",
      " #   Column                  Dtype   \n",
      "---  ------                  -----   \n",
      " 0   order_id                int32   \n",
      " 1   user_id                 int32   \n",
      " 2   order_number            int8    \n",
      " 3   order_dow               int8    \n",
      " 4   order_hour_of_day       int8    \n",
      " 5   days_since_prior_order  float16 \n",
      " 6   product_id              int32   \n",
      " 7   add_to_cart_order       int32   \n",
      " 8   reordered               int8    \n",
      " 9   _merge                  category\n",
      "dtypes: category(1), float16(1), int32(4), int8(4)\n",
      "memory usage: 711.4 MB\n",
      "None\n"
     ]
    }
   ],
   "source": [
    "print(ords_prods_merged['_merge'].value_counts())\n",
    "print(ords_prods_merged.shape)\n",
    "print(ords_prods_merged.info())"
   ]
  },
  {
   "cell_type": "markdown",
   "id": "621e769e-7991-41be-8ae4-b985ce6b87b4",
   "metadata": {},
   "source": [
    "# Export data to csv"
   ]
  },
  {
   "cell_type": "code",
   "execution_count": 17,
   "id": "b35ed9bb-6b36-4c13-9234-116a55860c69",
   "metadata": {},
   "outputs": [],
   "source": [
    "# Drop _merge flag and export data to pkl\n",
    "ords_prods_merged.drop(['_merge'], axis=1, inplace=True)\n",
    "ords_prods_merged.to_csv(os.path.join(path, '02 Data','Prepared Data', 'ords_prods_merged.csv'), index=False)"
   ]
  }
 ],
 "metadata": {
  "kernelspec": {
   "display_name": "Python [conda env:base] *",
   "language": "python",
   "name": "conda-base-py"
  },
  "language_info": {
   "codemirror_mode": {
    "name": "ipython",
    "version": 3
   },
   "file_extension": ".py",
   "mimetype": "text/x-python",
   "name": "python",
   "nbconvert_exporter": "python",
   "pygments_lexer": "ipython3",
   "version": "3.12.7"
  }
 },
 "nbformat": 4,
 "nbformat_minor": 5
}
