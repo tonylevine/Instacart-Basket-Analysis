{
 "cells": [
  {
   "cell_type": "markdown",
   "id": "83be9f68-9f42-4a70-86b9-ee0a688b4d89",
   "metadata": {},
   "source": [
    "# 01. Import libraries and data"
   ]
  },
  {
   "cell_type": "code",
   "execution_count": 2,
   "id": "eb76679f-4899-4c66-a64e-2b3bd4f30f8f",
   "metadata": {},
   "outputs": [],
   "source": [
    "# Import libraries\n",
    "\n",
    "import pandas as pd\n",
    "import numpy as np\n",
    "import os\n",
    "# Set path\n",
    "path = r'/home/scruffy/anaconda_projects/Instacart Basket Analysis/'\n",
    "# Import data to dataframe\n",
    "ords_prods_merge = pd.read_pickle(os.path.join(path, '02 Data','Prepared Data', 'ords_prods_cust_added_cols.pkl'))"
   ]
  },
  {
   "cell_type": "code",
   "execution_count": 3,
   "id": "34da15f4-78fd-462d-b683-0f55d600e5e3",
   "metadata": {},
   "outputs": [
    {
     "name": "stdout",
     "output_type": "stream",
     "text": [
      "(32404859, 25)\n",
      "   product_id                product_name  aisle_id  department_id    prices  \\\n",
      "0           1  Chocolate Sandwich Cookies        61             19  5.800781   \n",
      "1           1  Chocolate Sandwich Cookies        61             19  5.800781   \n",
      "2           1  Chocolate Sandwich Cookies        61             19  5.800781   \n",
      "3           1  Chocolate Sandwich Cookies        61             19  5.800781   \n",
      "4           1  Chocolate Sandwich Cookies        61             19  5.800781   \n",
      "5           1  Chocolate Sandwich Cookies        61             19  5.800781   \n",
      "6           1  Chocolate Sandwich Cookies        61             19  5.800781   \n",
      "7           1  Chocolate Sandwich Cookies        61             19  5.800781   \n",
      "8           1  Chocolate Sandwich Cookies        61             19  5.800781   \n",
      "9           1  Chocolate Sandwich Cookies        61             19  5.800781   \n",
      "\n",
      "   order_id  user_id  order_number  order_dow  order_hour_of_day  ...  gender  \\\n",
      "0   3139998      138            28          6                 11  ...    Male   \n",
      "1   1977647      138            30          6                 17  ...    Male   \n",
      "2    389851      709             2          0                 21  ...  Female   \n",
      "3    652770      764             1          3                 13  ...  Female   \n",
      "4   1813452      764             3          4                 17  ...  Female   \n",
      "5   1701441      777            16          1                  7  ...  Female   \n",
      "6   1871483      825             3          2                 14  ...    Male   \n",
      "7   1290456      910            12          3                 10  ...  Female   \n",
      "8    369558     1052            10          1                 20  ...    Male   \n",
      "9    589712     1052            15          1                 12  ...    Male   \n",
      "\n",
      "                  state  age date_joined n_dependents  \\\n",
      "0             Minnesota   81    8/1/2019            1   \n",
      "1             Minnesota   81    8/1/2019            1   \n",
      "2               Vermont   66   6/16/2018            2   \n",
      "3             Wisconsin   40    2/9/2020            3   \n",
      "4             Wisconsin   40    2/9/2020            3   \n",
      "5                Hawaii   51    1/4/2019            2   \n",
      "6  District of Columbia   20    5/8/2019            3   \n",
      "7             Tennessee   65   7/25/2019            0   \n",
      "8                Oregon   72   3/30/2018            1   \n",
      "9                Oregon   72   3/30/2018            1   \n",
      "\n",
      "                         fam_status  income        price_range  \\\n",
      "0                           married   49620  Mid-range product   \n",
      "1                           married   49620  Mid-range product   \n",
      "2                           married  158302  Mid-range product   \n",
      "3                           married   31308  Mid-range product   \n",
      "4                           married   31308  Mid-range product   \n",
      "5                           married   57797  Mid-range product   \n",
      "6  living with parents and siblings   34171  Mid-range product   \n",
      "7                  divorced/widowed   44856  Mid-range product   \n",
      "8                           married  153843  Mid-range product   \n",
      "9                           married  153843  Mid-range product   \n",
      "\n",
      "  busiest_days_loc  busiest_period_of_day  \n",
      "0   Regularly busy            Most orders  \n",
      "1   Regularly busy         Average orders  \n",
      "2     Busiest days         Average orders  \n",
      "3  Least busy days            Most orders  \n",
      "4  Least busy days         Average orders  \n",
      "5     Busiest days         Average orders  \n",
      "6   Regularly busy            Most orders  \n",
      "7  Least busy days            Most orders  \n",
      "8     Busiest days         Average orders  \n",
      "9     Busiest days            Most orders  \n",
      "\n",
      "[10 rows x 25 columns]\n"
     ]
    }
   ],
   "source": [
    "# Check import\n",
    "print(ords_prods_merge.shape)\n",
    "print(ords_prods_merge.head(10))"
   ]
  },
  {
   "cell_type": "markdown",
   "id": "cf80b136-474e-4957-bdc6-867217e1d4cf",
   "metadata": {},
   "source": [
    "# 02. Grouping and aggregating"
   ]
  },
  {
   "cell_type": "code",
   "execution_count": 5,
   "id": "35cfc46b-40a4-4e65-9978-5fdcd59e982b",
   "metadata": {},
   "outputs": [
    {
     "name": "stdout",
     "output_type": "stream",
     "text": [
      "              order_number        \n",
      "                      mean min max\n",
      "department_id                     \n",
      "1                15.457838   1  99\n",
      "2                17.277920   1  99\n",
      "3                17.170395   1  99\n",
      "4                17.811403   1  99\n",
      "5                15.215751   1  99\n",
      "6                16.439806   1  99\n",
      "7                17.225802   1  99\n",
      "8                15.340650   1  99\n",
      "9                15.895474   1  99\n",
      "10               20.197148   1  99\n",
      "11               16.170638   1  99\n",
      "12               15.887671   1  99\n",
      "13               16.583536   1  99\n",
      "14               16.773669   1  99\n",
      "15               16.165037   1  99\n",
      "16               17.665606   1  99\n",
      "17               15.694469   1  99\n",
      "18               19.310397   1  99\n",
      "19               17.177343   1  99\n",
      "20               16.473447   1  99\n",
      "21               22.902379   1  99\n"
     ]
    }
   ],
   "source": [
    "# Print summary statistics by department for full data set\n",
    "print(ords_prods_merge.groupby('department_id').agg({'order_number': ['mean', 'min', 'max']}))"
   ]
  },
  {
   "cell_type": "markdown",
   "id": "5a287be3-5c99-47ce-9ae6-14f5ed6d6332",
   "metadata": {},
   "source": [
    "#### The results are very similar to the results for the same operation on the subsetted data, although in general the more extreme values are closer to the overall mean this time and the max values are all exactly 99."
   ]
  },
  {
   "cell_type": "markdown",
   "id": "858b671f-1bb5-4c12-8418-3190f195fa5c",
   "metadata": {},
   "source": [
    "### Create max_order and loyalty flag columns"
   ]
  },
  {
   "cell_type": "code",
   "execution_count": 8,
   "id": "fb16d993-5ea4-432a-bc72-8591a3460560",
   "metadata": {},
   "outputs": [],
   "source": [
    "# Create max_order column with the maximum order_number per user\n",
    "ords_prods_merge['max_order'] = ords_prods_merge.groupby(['user_id'])['order_number'].transform('max')"
   ]
  },
  {
   "cell_type": "code",
   "execution_count": 9,
   "id": "91cb7948-7915-445b-9894-22775c796be6",
   "metadata": {},
   "outputs": [],
   "source": [
    "# Create loyalty_flag column and define conditions for each tag\n",
    "ords_prods_merge.loc[ords_prods_merge['max_order'] > 47, 'loyalty_flag'] = 'Loyal customer'"
   ]
  },
  {
   "cell_type": "code",
   "execution_count": 10,
   "id": "bf042dfc-4a11-453b-b52a-1261c2b1f57c",
   "metadata": {},
   "outputs": [],
   "source": [
    "ords_prods_merge.loc[(ords_prods_merge['max_order'] <= 47) & (ords_prods_merge['max_order'] > 13), 'loyalty_flag'] = 'Regular customer'"
   ]
  },
  {
   "cell_type": "code",
   "execution_count": 11,
   "id": "6a77257c-cd10-4b71-8f35-e2c024717077",
   "metadata": {},
   "outputs": [],
   "source": [
    "ords_prods_merge.loc[ords_prods_merge['max_order'] <= 13, 'loyalty_flag'] = 'New customer'"
   ]
  },
  {
   "cell_type": "code",
   "execution_count": 12,
   "id": "fdca2bfc-e6c0-450b-a3c9-a3052e88e0be",
   "metadata": {},
   "outputs": [
    {
     "name": "stdout",
     "output_type": "stream",
     "text": [
      "loyalty_flag\n",
      "Regular customer    15941386\n",
      "New customer         8494382\n",
      "Loyal customer       7969091\n",
      "Name: count, dtype: int64\n"
     ]
    }
   ],
   "source": [
    "# Check results of loyalty_flag column\n",
    "print(ords_prods_merge['loyalty_flag'].value_counts(dropna=False))"
   ]
  },
  {
   "cell_type": "code",
   "execution_count": 13,
   "id": "bef43d2b-1914-4140-bdfe-a8594e90e147",
   "metadata": {},
   "outputs": [
    {
     "name": "stdout",
     "output_type": "stream",
     "text": [
      "                    prices                     \n",
      "                      mean  min   max    median\n",
      "loyalty_flag                                   \n",
      "Loyal customer    7.767535  1.0  25.0  7.398438\n",
      "New customer      7.800277  1.0  25.0  7.398438\n",
      "Regular customer  7.797513  1.0  25.0  7.398438\n"
     ]
    }
   ],
   "source": [
    "# Print summary statistics for prices by each loyalty_flag group\n",
    "prices_by_loyalty = ords_prods_merge.groupby('loyalty_flag').agg({'prices': ['mean', 'min', 'max', 'median']})\n",
    "print(prices_by_loyalty)"
   ]
  },
  {
   "cell_type": "markdown",
   "id": "5ed1ab1f-1aa5-4078-9166-8981ccbf92cb",
   "metadata": {},
   "source": [
    "#### No observable difference in prices by loyalty bucket. These are per-item prices, however, so it is still possible that there could be differences in order size."
   ]
  },
  {
   "cell_type": "markdown",
   "id": "ea7b8e2f-e716-4942-b17a-c9827ff524cc",
   "metadata": {},
   "source": [
    "### Create avg_spend and avg_spend_flag columns"
   ]
  },
  {
   "cell_type": "code",
   "execution_count": 16,
   "id": "044135c3-a283-494d-ae6e-b88fcf428da7",
   "metadata": {},
   "outputs": [],
   "source": [
    "# Create avg_spend column with average of 'prices' by user\n",
    "ords_prods_merge['avg_spend'] = ords_prods_merge.groupby(['user_id'])['prices'].transform('mean')"
   ]
  },
  {
   "cell_type": "code",
   "execution_count": 17,
   "id": "67578dd9-27b5-4019-8c62-f1c7c7e3a3ae",
   "metadata": {},
   "outputs": [],
   "source": [
    "# Create avg_spend_flag column and define conditions for each tag\n",
    "ords_prods_merge.loc[ords_prods_merge['avg_spend'] < 10, 'avg_spend_flag'] = 'Low spender'"
   ]
  },
  {
   "cell_type": "code",
   "execution_count": 18,
   "id": "d81bc0f5-6a4e-4336-b57a-4339b901b95b",
   "metadata": {},
   "outputs": [],
   "source": [
    "ords_prods_merge.loc[ords_prods_merge['avg_spend'] >= 10, 'avg_spend_flag'] = 'High spender'"
   ]
  },
  {
   "cell_type": "code",
   "execution_count": 19,
   "id": "d5b3960b-2ec6-475c-a4c1-4d5380d4a85a",
   "metadata": {},
   "outputs": [
    {
     "name": "stdout",
     "output_type": "stream",
     "text": [
      "avg_spend_flag\n",
      "Low spender     32285390\n",
      "High spender      119469\n",
      "Name: count, dtype: int64\n"
     ]
    }
   ],
   "source": [
    "# Check results of avg_spend_flag column\n",
    "print(ords_prods_merge['avg_spend_flag'].value_counts(dropna=False))"
   ]
  },
  {
   "cell_type": "markdown",
   "id": "f9c0e6d5-e371-42a8-b765-63a59d3de31a",
   "metadata": {},
   "source": [
    "### Create order_frequency and order_frequency_flag columns"
   ]
  },
  {
   "cell_type": "code",
   "execution_count": 21,
   "id": "ca2da5bd-8dc1-4d6c-86fc-40601e5004ff",
   "metadata": {},
   "outputs": [],
   "source": [
    "# Create order_frequency columns using median of days_since_prior_order by user\n",
    "ords_prods_merge['order_frequency'] = ords_prods_merge.groupby(['user_id'])['days_since_prior_order'].transform('median')"
   ]
  },
  {
   "cell_type": "code",
   "execution_count": 22,
   "id": "a6ba8d7e-771c-4dd3-901b-230449d4d9d0",
   "metadata": {},
   "outputs": [],
   "source": [
    "# Create order_frequency_flag column and define conditions for each tag\n",
    "ords_prods_merge.loc[ords_prods_merge['order_frequency'] > 20, 'order_frequency_flag'] = 'Non-frequent customer'"
   ]
  },
  {
   "cell_type": "code",
   "execution_count": 23,
   "id": "1e34a322-33f2-40e5-97a9-f31e518540ac",
   "metadata": {},
   "outputs": [],
   "source": [
    "ords_prods_merge.loc[(ords_prods_merge['order_frequency'] > 10) & (ords_prods_merge['order_frequency'] <= 20), 'order_frequency_flag'] = 'Regular customer'"
   ]
  },
  {
   "cell_type": "code",
   "execution_count": 24,
   "id": "01aaaf75-3a42-44c8-9788-aac5a9b72bc3",
   "metadata": {},
   "outputs": [],
   "source": [
    "ords_prods_merge.loc[ords_prods_merge['order_frequency'] <= 10, 'order_frequency_flag'] = 'Frequent customer'"
   ]
  },
  {
   "cell_type": "code",
   "execution_count": 25,
   "id": "07c3e593-cdb8-476e-ab9e-64ad5db1991e",
   "metadata": {},
   "outputs": [
    {
     "name": "stdout",
     "output_type": "stream",
     "text": [
      "order_frequency_flag\n",
      "Frequent customer        21559853\n",
      "Regular customer          7208564\n",
      "Non-frequent customer     3636437\n",
      "NaN                             5\n",
      "Name: count, dtype: int64\n"
     ]
    }
   ],
   "source": [
    "# Check results of order_frequency_flag column\n",
    "print(ords_prods_merge['order_frequency_flag'].value_counts(dropna=False))"
   ]
  },
  {
   "cell_type": "markdown",
   "id": "47fe8dec-0df3-456e-8618-301957e955d7",
   "metadata": {},
   "source": [
    "#### Results show 5 null values in order_frequency_flag column. It's possible that these are from users who've placed only one order and therefore the median of their days_since_prior_order is null. We can check this using the max_order column."
   ]
  },
  {
   "cell_type": "code",
   "execution_count": 27,
   "id": "730ed670-a636-41b1-ab8c-12a82ab0f90a",
   "metadata": {},
   "outputs": [
    {
     "data": {
      "text/html": [
       "<div>\n",
       "<style scoped>\n",
       "    .dataframe tbody tr th:only-of-type {\n",
       "        vertical-align: middle;\n",
       "    }\n",
       "\n",
       "    .dataframe tbody tr th {\n",
       "        vertical-align: top;\n",
       "    }\n",
       "\n",
       "    .dataframe thead th {\n",
       "        text-align: right;\n",
       "    }\n",
       "</style>\n",
       "<table border=\"1\" class=\"dataframe\">\n",
       "  <thead>\n",
       "    <tr style=\"text-align: right;\">\n",
       "      <th></th>\n",
       "      <th>product_id</th>\n",
       "      <th>product_name</th>\n",
       "      <th>aisle_id</th>\n",
       "      <th>department_id</th>\n",
       "      <th>prices</th>\n",
       "      <th>order_id</th>\n",
       "      <th>user_id</th>\n",
       "      <th>order_number</th>\n",
       "      <th>order_dow</th>\n",
       "      <th>order_hour_of_day</th>\n",
       "      <th>...</th>\n",
       "      <th>income</th>\n",
       "      <th>price_range</th>\n",
       "      <th>busiest_days_loc</th>\n",
       "      <th>busiest_period_of_day</th>\n",
       "      <th>max_order</th>\n",
       "      <th>loyalty_flag</th>\n",
       "      <th>avg_spend</th>\n",
       "      <th>avg_spend_flag</th>\n",
       "      <th>order_frequency</th>\n",
       "      <th>order_frequency_flag</th>\n",
       "    </tr>\n",
       "  </thead>\n",
       "  <tbody>\n",
       "    <tr>\n",
       "      <th>6234909</th>\n",
       "      <td>10749</td>\n",
       "      <td>Organic Red Bell Pepper</td>\n",
       "      <td>83</td>\n",
       "      <td>4</td>\n",
       "      <td>5.699219</td>\n",
       "      <td>895835</td>\n",
       "      <td>159838</td>\n",
       "      <td>1</td>\n",
       "      <td>0</td>\n",
       "      <td>17</td>\n",
       "      <td>...</td>\n",
       "      <td>140994</td>\n",
       "      <td>Mid-range product</td>\n",
       "      <td>Busiest days</td>\n",
       "      <td>Average orders</td>\n",
       "      <td>1</td>\n",
       "      <td>New customer</td>\n",
       "      <td>7.419726</td>\n",
       "      <td>Low spender</td>\n",
       "      <td>NaN</td>\n",
       "      <td>NaN</td>\n",
       "    </tr>\n",
       "    <tr>\n",
       "      <th>12947653</th>\n",
       "      <td>21334</td>\n",
       "      <td>Organic Peeled Garlic</td>\n",
       "      <td>123</td>\n",
       "      <td>4</td>\n",
       "      <td>10.203125</td>\n",
       "      <td>895835</td>\n",
       "      <td>159838</td>\n",
       "      <td>1</td>\n",
       "      <td>0</td>\n",
       "      <td>17</td>\n",
       "      <td>...</td>\n",
       "      <td>140994</td>\n",
       "      <td>Mid-range product</td>\n",
       "      <td>Busiest days</td>\n",
       "      <td>Average orders</td>\n",
       "      <td>1</td>\n",
       "      <td>New customer</td>\n",
       "      <td>7.419726</td>\n",
       "      <td>Low spender</td>\n",
       "      <td>NaN</td>\n",
       "      <td>NaN</td>\n",
       "    </tr>\n",
       "    <tr>\n",
       "      <th>13839012</th>\n",
       "      <td>22198</td>\n",
       "      <td>4X Ultra Concentrated Natural Laundry Detergen...</td>\n",
       "      <td>75</td>\n",
       "      <td>17</td>\n",
       "      <td>1.700195</td>\n",
       "      <td>895835</td>\n",
       "      <td>159838</td>\n",
       "      <td>1</td>\n",
       "      <td>0</td>\n",
       "      <td>17</td>\n",
       "      <td>...</td>\n",
       "      <td>140994</td>\n",
       "      <td>Low-range product</td>\n",
       "      <td>Busiest days</td>\n",
       "      <td>Average orders</td>\n",
       "      <td>1</td>\n",
       "      <td>New customer</td>\n",
       "      <td>7.419726</td>\n",
       "      <td>Low spender</td>\n",
       "      <td>NaN</td>\n",
       "      <td>NaN</td>\n",
       "    </tr>\n",
       "    <tr>\n",
       "      <th>14758536</th>\n",
       "      <td>23695</td>\n",
       "      <td>California Veggie Burger</td>\n",
       "      <td>42</td>\n",
       "      <td>1</td>\n",
       "      <td>4.699219</td>\n",
       "      <td>895835</td>\n",
       "      <td>159838</td>\n",
       "      <td>1</td>\n",
       "      <td>0</td>\n",
       "      <td>17</td>\n",
       "      <td>...</td>\n",
       "      <td>140994</td>\n",
       "      <td>Low-range product</td>\n",
       "      <td>Busiest days</td>\n",
       "      <td>Average orders</td>\n",
       "      <td>1</td>\n",
       "      <td>New customer</td>\n",
       "      <td>7.419726</td>\n",
       "      <td>Low spender</td>\n",
       "      <td>NaN</td>\n",
       "      <td>NaN</td>\n",
       "    </tr>\n",
       "    <tr>\n",
       "      <th>21673807</th>\n",
       "      <td>33401</td>\n",
       "      <td>Goat Cheese Crumbles</td>\n",
       "      <td>21</td>\n",
       "      <td>16</td>\n",
       "      <td>14.796875</td>\n",
       "      <td>895835</td>\n",
       "      <td>159838</td>\n",
       "      <td>1</td>\n",
       "      <td>0</td>\n",
       "      <td>17</td>\n",
       "      <td>...</td>\n",
       "      <td>140994</td>\n",
       "      <td>Mid-range product</td>\n",
       "      <td>Busiest days</td>\n",
       "      <td>Average orders</td>\n",
       "      <td>1</td>\n",
       "      <td>New customer</td>\n",
       "      <td>7.419726</td>\n",
       "      <td>Low spender</td>\n",
       "      <td>NaN</td>\n",
       "      <td>NaN</td>\n",
       "    </tr>\n",
       "  </tbody>\n",
       "</table>\n",
       "<p>5 rows × 31 columns</p>\n",
       "</div>"
      ],
      "text/plain": [
       "          product_id                                       product_name  \\\n",
       "6234909        10749                            Organic Red Bell Pepper   \n",
       "12947653       21334                              Organic Peeled Garlic   \n",
       "13839012       22198  4X Ultra Concentrated Natural Laundry Detergen...   \n",
       "14758536       23695                           California Veggie Burger   \n",
       "21673807       33401                               Goat Cheese Crumbles   \n",
       "\n",
       "          aisle_id  department_id     prices  order_id  user_id  order_number  \\\n",
       "6234909         83              4   5.699219    895835   159838             1   \n",
       "12947653       123              4  10.203125    895835   159838             1   \n",
       "13839012        75             17   1.700195    895835   159838             1   \n",
       "14758536        42              1   4.699219    895835   159838             1   \n",
       "21673807        21             16  14.796875    895835   159838             1   \n",
       "\n",
       "          order_dow  order_hour_of_day  ...  income        price_range  \\\n",
       "6234909           0                 17  ...  140994  Mid-range product   \n",
       "12947653          0                 17  ...  140994  Mid-range product   \n",
       "13839012          0                 17  ...  140994  Low-range product   \n",
       "14758536          0                 17  ...  140994  Low-range product   \n",
       "21673807          0                 17  ...  140994  Mid-range product   \n",
       "\n",
       "          busiest_days_loc busiest_period_of_day max_order  loyalty_flag  \\\n",
       "6234909       Busiest days        Average orders         1  New customer   \n",
       "12947653      Busiest days        Average orders         1  New customer   \n",
       "13839012      Busiest days        Average orders         1  New customer   \n",
       "14758536      Busiest days        Average orders         1  New customer   \n",
       "21673807      Busiest days        Average orders         1  New customer   \n",
       "\n",
       "         avg_spend  avg_spend_flag order_frequency  order_frequency_flag  \n",
       "6234909   7.419726     Low spender             NaN                   NaN  \n",
       "12947653  7.419726     Low spender             NaN                   NaN  \n",
       "13839012  7.419726     Low spender             NaN                   NaN  \n",
       "14758536  7.419726     Low spender             NaN                   NaN  \n",
       "21673807  7.419726     Low spender             NaN                   NaN  \n",
       "\n",
       "[5 rows x 31 columns]"
      ]
     },
     "execution_count": 27,
     "metadata": {},
     "output_type": "execute_result"
    }
   ],
   "source": [
    "ords_prods_merge[ords_prods_merge['max_order']==1]"
   ]
  },
  {
   "cell_type": "markdown",
   "id": "4f22c837-b62d-471f-a9d0-bc9f525f9fe8",
   "metadata": {},
   "source": [
    "#### As suspected, we have five observations from users with a max_order of 1. This is an infrequent user and so can be added to that bucket."
   ]
  },
  {
   "cell_type": "code",
   "execution_count": 29,
   "id": "8895e367-425b-4c4d-b36b-c2482b162b8f",
   "metadata": {},
   "outputs": [],
   "source": [
    "# Mark users with max_order of 1 as infrequent customers\n",
    "ords_prods_merge.loc[(ords_prods_merge['max_order']==1), 'order_frequency_flag'] = 'Non-frequent customer'"
   ]
  },
  {
   "cell_type": "code",
   "execution_count": 30,
   "id": "07b371f0-6dd4-473c-acdc-bc5c70d9717f",
   "metadata": {},
   "outputs": [
    {
     "name": "stdout",
     "output_type": "stream",
     "text": [
      "order_frequency_flag\n",
      "Frequent customer        21559853\n",
      "Regular customer          7208564\n",
      "Non-frequent customer     3636442\n",
      "Name: count, dtype: int64\n"
     ]
    }
   ],
   "source": [
    "# Check updated results\n",
    "print(ords_prods_merge['order_frequency_flag'].value_counts(dropna=False))"
   ]
  },
  {
   "cell_type": "markdown",
   "id": "13edf407-a91a-48e5-8131-8d4e1240643d",
   "metadata": {},
   "source": [
    "# 03. Check and export data"
   ]
  },
  {
   "cell_type": "code",
   "execution_count": 32,
   "id": "b2f537e6-5c04-4f25-a5f2-8fd9b2546a29",
   "metadata": {},
   "outputs": [
    {
     "name": "stdout",
     "output_type": "stream",
     "text": [
      "   product_id                product_name  aisle_id  department_id    prices  \\\n",
      "0           1  Chocolate Sandwich Cookies        61             19  5.800781   \n",
      "1           1  Chocolate Sandwich Cookies        61             19  5.800781   \n",
      "2           1  Chocolate Sandwich Cookies        61             19  5.800781   \n",
      "3           1  Chocolate Sandwich Cookies        61             19  5.800781   \n",
      "4           1  Chocolate Sandwich Cookies        61             19  5.800781   \n",
      "\n",
      "   order_id  user_id  order_number  order_dow  order_hour_of_day  ...  income  \\\n",
      "0   3139998      138            28          6                 11  ...   49620   \n",
      "1   1977647      138            30          6                 17  ...   49620   \n",
      "2    389851      709             2          0                 21  ...  158302   \n",
      "3    652770      764             1          3                 13  ...   31308   \n",
      "4   1813452      764             3          4                 17  ...   31308   \n",
      "\n",
      "         price_range  busiest_days_loc busiest_period_of_day max_order  \\\n",
      "0  Mid-range product    Regularly busy           Most orders        32   \n",
      "1  Mid-range product    Regularly busy        Average orders        32   \n",
      "2  Mid-range product      Busiest days        Average orders         5   \n",
      "3  Mid-range product   Least busy days           Most orders         3   \n",
      "4  Mid-range product   Least busy days        Average orders         3   \n",
      "\n",
      "       loyalty_flag avg_spend  avg_spend_flag order_frequency  \\\n",
      "0  Regular customer  6.936028     Low spender             8.0   \n",
      "1  Regular customer  6.936028     Low spender             8.0   \n",
      "2      New customer  7.930212     Low spender             8.0   \n",
      "3      New customer  4.972421     Low spender             9.0   \n",
      "4      New customer  4.972421     Low spender             9.0   \n",
      "\n",
      "   order_frequency_flag  \n",
      "0     Frequent customer  \n",
      "1     Frequent customer  \n",
      "2     Frequent customer  \n",
      "3     Frequent customer  \n",
      "4     Frequent customer  \n",
      "\n",
      "[5 rows x 31 columns]\n",
      "<class 'pandas.core.frame.DataFrame'>\n",
      "RangeIndex: 32404859 entries, 0 to 32404858\n",
      "Data columns (total 31 columns):\n",
      " #   Column                  Dtype  \n",
      "---  ------                  -----  \n",
      " 0   product_id              int32  \n",
      " 1   product_name            object \n",
      " 2   aisle_id                int8   \n",
      " 3   department_id           int8   \n",
      " 4   prices                  float16\n",
      " 5   order_id                int32  \n",
      " 6   user_id                 int32  \n",
      " 7   order_number            int8   \n",
      " 8   order_dow               int8   \n",
      " 9   order_hour_of_day       int8   \n",
      " 10  days_since_prior_order  float16\n",
      " 11  add_to_cart_order       int32  \n",
      " 12  reordered               int8   \n",
      " 13  first_name              object \n",
      " 14  last_name               object \n",
      " 15  gender                  object \n",
      " 16  state                   object \n",
      " 17  age                     int8   \n",
      " 18  date_joined             object \n",
      " 19  n_dependents            int8   \n",
      " 20  fam_status              object \n",
      " 21  income                  int32  \n",
      " 22  price_range             object \n",
      " 23  busiest_days_loc        object \n",
      " 24  busiest_period_of_day   object \n",
      " 25  max_order               int8   \n",
      " 26  loyalty_flag            object \n",
      " 27  avg_spend               float32\n",
      " 28  avg_spend_flag          object \n",
      " 29  order_frequency         float16\n",
      " 30  order_frequency_flag    object \n",
      "dtypes: float16(3), float32(1), int32(5), int8(9), object(13)\n",
      "memory usage: 4.3+ GB\n",
      "None\n"
     ]
    },
    {
     "name": "stderr",
     "output_type": "stream",
     "text": [
      "/home/scruffy/anaconda3/lib/python3.12/site-packages/pandas/core/nanops.py:1487: RuntimeWarning: overflow encountered in cast\n",
      "  return dtype.type(n)\n",
      "/home/scruffy/anaconda3/lib/python3.12/site-packages/numpy/core/_methods.py:49: RuntimeWarning: overflow encountered in reduce\n",
      "  return umr_sum(a, axis, dtype, out, keepdims, initial, where)\n",
      "/home/scruffy/anaconda3/lib/python3.12/site-packages/pandas/core/nanops.py:731: RuntimeWarning: invalid value encountered in scalar divide\n",
      "  the_mean = the_sum / count if count > 0 else np.nan\n",
      "/home/scruffy/anaconda3/lib/python3.12/site-packages/pandas/core/nanops.py:1487: RuntimeWarning: overflow encountered in cast\n",
      "  return dtype.type(n)\n",
      "/home/scruffy/anaconda3/lib/python3.12/site-packages/pandas/core/nanops.py:1487: RuntimeWarning: overflow encountered in cast\n",
      "  return dtype.type(n)\n",
      "/home/scruffy/anaconda3/lib/python3.12/site-packages/numpy/core/_methods.py:49: RuntimeWarning: overflow encountered in reduce\n",
      "  return umr_sum(a, axis, dtype, out, keepdims, initial, where)\n",
      "/home/scruffy/anaconda3/lib/python3.12/site-packages/pandas/core/nanops.py:731: RuntimeWarning: invalid value encountered in scalar divide\n",
      "  the_mean = the_sum / count if count > 0 else np.nan\n",
      "/home/scruffy/anaconda3/lib/python3.12/site-packages/pandas/core/nanops.py:1487: RuntimeWarning: overflow encountered in cast\n",
      "  return dtype.type(n)\n",
      "/home/scruffy/anaconda3/lib/python3.12/site-packages/pandas/core/nanops.py:1487: RuntimeWarning: overflow encountered in cast\n",
      "  return dtype.type(n)\n",
      "/home/scruffy/anaconda3/lib/python3.12/site-packages/numpy/core/_methods.py:49: RuntimeWarning: overflow encountered in reduce\n",
      "  return umr_sum(a, axis, dtype, out, keepdims, initial, where)\n",
      "/home/scruffy/anaconda3/lib/python3.12/site-packages/pandas/core/nanops.py:731: RuntimeWarning: invalid value encountered in scalar divide\n",
      "  the_mean = the_sum / count if count > 0 else np.nan\n",
      "/home/scruffy/anaconda3/lib/python3.12/site-packages/pandas/core/nanops.py:1487: RuntimeWarning: overflow encountered in cast\n",
      "  return dtype.type(n)\n"
     ]
    },
    {
     "name": "stdout",
     "output_type": "stream",
     "text": [
      "         product_id      aisle_id  department_id        prices      order_id  \\\n",
      "count  3.240486e+07  3.240486e+07   3.240486e+07  3.239973e+07  3.240486e+07   \n",
      "mean   2.559866e+04  6.449111e+01   9.919792e+00           NaN  1.710745e+06   \n",
      "std    1.408400e+04  4.843815e+01   6.281485e+00  0.000000e+00  9.872988e+05   \n",
      "min    1.000000e+00 -1.280000e+02   1.000000e+00  1.000000e+00  2.000000e+00   \n",
      "25%    1.354400e+04  2.400000e+01   4.000000e+00  4.199219e+00  8.559470e+05   \n",
      "50%    2.530200e+04  7.900000e+01   9.000000e+00  7.398438e+00  1.711049e+06   \n",
      "75%    3.794700e+04  1.000000e+02   1.600000e+01  1.129688e+01  2.565499e+06   \n",
      "max    4.968800e+04  1.270000e+02   2.100000e+01  2.500000e+01  3.421083e+06   \n",
      "\n",
      "            user_id  order_number     order_dow  order_hour_of_day  \\\n",
      "count  3.240486e+07  3.240486e+07  3.240486e+07       3.240486e+07   \n",
      "mean   1.029372e+05  1.714230e+01  2.738867e+00       1.342515e+01   \n",
      "std    5.946610e+04  1.753532e+01  2.090077e+00       4.246380e+00   \n",
      "min    1.000000e+00  1.000000e+00  0.000000e+00       0.000000e+00   \n",
      "25%    5.142200e+04  5.000000e+00  1.000000e+00       1.000000e+01   \n",
      "50%    1.026160e+05  1.100000e+01  3.000000e+00       1.300000e+01   \n",
      "75%    1.543890e+05  2.400000e+01  5.000000e+00       1.600000e+01   \n",
      "max    2.062090e+05  9.900000e+01  6.000000e+00       2.300000e+01   \n",
      "\n",
      "       days_since_prior_order  add_to_cart_order     reordered           age  \\\n",
      "count              30328763.0       3.240486e+07  3.240486e+07  3.240486e+07   \n",
      "mean                      NaN       8.352547e+00  5.895873e-01  4.946527e+01   \n",
      "std                       0.0       7.127071e+00  4.919087e-01  1.848558e+01   \n",
      "min                       0.0       1.000000e+00  0.000000e+00  1.800000e+01   \n",
      "25%                       5.0       3.000000e+00  0.000000e+00  3.300000e+01   \n",
      "50%                       8.0       6.000000e+00  1.000000e+00  4.900000e+01   \n",
      "75%                      15.0       1.100000e+01  1.000000e+00  6.500000e+01   \n",
      "max                      30.0       1.450000e+02  1.000000e+00  8.100000e+01   \n",
      "\n",
      "       n_dependents        income     max_order     avg_spend  order_frequency  \n",
      "count  3.240486e+07  3.240486e+07  3.240486e+07  3.240486e+07       32404854.0  \n",
      "mean   1.501896e+00  9.943773e+04  3.305217e+01  7.790860e+00              NaN  \n",
      "std    1.118865e+00  4.305727e+04  2.515525e+01  1.004644e+00              0.0  \n",
      "min    0.000000e+00  2.590300e+04  1.000000e+00  1.000000e+00              0.0  \n",
      "25%    1.000000e+00  6.700400e+04  1.300000e+01  7.378340e+00              6.0  \n",
      "50%    2.000000e+00  9.661800e+04  2.600000e+01  7.811796e+00              8.0  \n",
      "75%    3.000000e+00  1.279120e+05  4.700000e+01  8.229169e+00             13.0  \n",
      "max    3.000000e+00  5.939010e+05  9.900000e+01  2.320312e+01             30.0  \n"
     ]
    }
   ],
   "source": [
    "# Check updated DataFrame\n",
    "print(ords_prods_merge.head())\n",
    "print(ords_prods_merge.info())\n",
    "print(ords_prods_merge.describe())"
   ]
  },
  {
   "cell_type": "code",
   "execution_count": 33,
   "id": "41f84559-0126-49f1-a59d-971ff890ab68",
   "metadata": {},
   "outputs": [],
   "source": [
    "# Export data to pkl\n",
    "ords_prods_merge.to_pickle(os.path.join(path, '02 Data','Prepared Data', 'ords_prods_cust_new_cols.pkl'))"
   ]
  },
  {
   "cell_type": "code",
   "execution_count": null,
   "id": "b47880a9-ebb0-4927-a936-c2930fbc53dc",
   "metadata": {},
   "outputs": [],
   "source": []
  }
 ],
 "metadata": {
  "kernelspec": {
   "display_name": "Python [conda env:base] *",
   "language": "python",
   "name": "conda-base-py"
  },
  "language_info": {
   "codemirror_mode": {
    "name": "ipython",
    "version": 3
   },
   "file_extension": ".py",
   "mimetype": "text/x-python",
   "name": "python",
   "nbconvert_exporter": "python",
   "pygments_lexer": "ipython3",
   "version": "3.12.7"
  }
 },
 "nbformat": 4,
 "nbformat_minor": 5
}
