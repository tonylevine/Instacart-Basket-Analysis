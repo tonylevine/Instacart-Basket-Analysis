{
 "cells": [
  {
   "cell_type": "markdown",
   "id": "c67597e2-63d3-4679-a670-68bdf05f712b",
   "metadata": {},
   "source": [
    "# 01. Import libraries and data"
   ]
  },
  {
   "cell_type": "code",
   "execution_count": 2,
   "id": "39c8eb95-04b5-4494-bca4-039db3bbb211",
   "metadata": {},
   "outputs": [],
   "source": [
    "# Import libraries\n",
    "\n",
    "import pandas as pd\n",
    "import numpy as np\n",
    "import os\n",
    "# Set path\n",
    "path = r'/home/scruffy/anaconda_projects/Instacart Basket Analysis/'\n",
    "# Import data to dataframe\n",
    "df_ords_prods = pd.read_pickle(os.path.join(path, '02 Data','Prepared Data', 'ords_prods_cust_merge.pkl'))"
   ]
  },
  {
   "cell_type": "code",
   "execution_count": 3,
   "id": "53d8976f-7e60-42d1-a9a0-8943f8ef4e36",
   "metadata": {},
   "outputs": [
    {
     "name": "stdout",
     "output_type": "stream",
     "text": [
      "   product_id                product_name  aisle_id  department_id    prices  \\\n",
      "0           1  Chocolate Sandwich Cookies        61             19  5.800781   \n",
      "1           1  Chocolate Sandwich Cookies        61             19  5.800781   \n",
      "2           1  Chocolate Sandwich Cookies        61             19  5.800781   \n",
      "3           1  Chocolate Sandwich Cookies        61             19  5.800781   \n",
      "4           1  Chocolate Sandwich Cookies        61             19  5.800781   \n",
      "\n",
      "   order_id  user_id  order_number  order_dow  order_hour_of_day  ...  \\\n",
      "0   3139998      138            28          6                 11  ...   \n",
      "1   1977647      138            30          6                 17  ...   \n",
      "2    389851      709             2          0                 21  ...   \n",
      "3    652770      764             1          3                 13  ...   \n",
      "4   1813452      764             3          4                 17  ...   \n",
      "\n",
      "   reordered  first_name  last_name  gender      state age date_joined  \\\n",
      "0          0     Charles        Cox    Male  Minnesota  81    8/1/2019   \n",
      "1          1     Charles        Cox    Male  Minnesota  81    8/1/2019   \n",
      "2          0     Deborah      Glass  Female    Vermont  66   6/16/2018   \n",
      "3          0     Heather      Myers  Female  Wisconsin  40    2/9/2020   \n",
      "4          1     Heather      Myers  Female  Wisconsin  40    2/9/2020   \n",
      "\n",
      "   n_dependents fam_status  income  \n",
      "0             1    married   49620  \n",
      "1             1    married   49620  \n",
      "2             2    married  158302  \n",
      "3             3    married   31308  \n",
      "4             3    married   31308  \n",
      "\n",
      "[5 rows x 22 columns]\n"
     ]
    }
   ],
   "source": [
    "# Check import\n",
    "print(df_ords_prods.head())"
   ]
  },
  {
   "cell_type": "code",
   "execution_count": 4,
   "id": "7e4a61aa-052a-4749-8871-0debbdb7f9d4",
   "metadata": {},
   "outputs": [
    {
     "name": "stdout",
     "output_type": "stream",
     "text": [
      "<class 'pandas.core.frame.DataFrame'>\n",
      "RangeIndex: 32404859 entries, 0 to 32404858\n",
      "Data columns (total 22 columns):\n",
      " #   Column                  Dtype  \n",
      "---  ------                  -----  \n",
      " 0   product_id              int32  \n",
      " 1   product_name            object \n",
      " 2   aisle_id                int8   \n",
      " 3   department_id           int8   \n",
      " 4   prices                  float16\n",
      " 5   order_id                int32  \n",
      " 6   user_id                 int32  \n",
      " 7   order_number            int8   \n",
      " 8   order_dow               int8   \n",
      " 9   order_hour_of_day       int8   \n",
      " 10  days_since_prior_order  float16\n",
      " 11  add_to_cart_order       int32  \n",
      " 12  reordered               int8   \n",
      " 13  first_name              object \n",
      " 14  last_name               object \n",
      " 15  gender                  object \n",
      " 16  state                   object \n",
      " 17  age                     int8   \n",
      " 18  date_joined             object \n",
      " 19  n_dependents            int8   \n",
      " 20  fam_status              object \n",
      " 21  income                  int32  \n",
      "dtypes: float16(2), int32(5), int8(8), object(7)\n",
      "memory usage: 2.7+ GB\n",
      "None\n"
     ]
    }
   ],
   "source": [
    "print(df_ords_prods.info())"
   ]
  },
  {
   "cell_type": "markdown",
   "id": "dd390c02-6dd7-4bff-b96c-a4c9ca81895e",
   "metadata": {},
   "source": [
    "# 02. Create new columns"
   ]
  },
  {
   "cell_type": "markdown",
   "id": "4286ae0d-00cc-4d29-ab91-b5ab9b4e2e9a",
   "metadata": {},
   "source": [
    "### Derive price_range column using .loc"
   ]
  },
  {
   "cell_type": "code",
   "execution_count": 7,
   "id": "d0803243-c8ec-4206-866a-bd72385be90a",
   "metadata": {},
   "outputs": [],
   "source": [
    "df_ords_prods.loc[df_ords_prods['prices'] > 15, 'price_range'] = 'High-range product'"
   ]
  },
  {
   "cell_type": "code",
   "execution_count": 8,
   "id": "bd46754d-c8a3-4f76-bbfa-3f2390f91126",
   "metadata": {},
   "outputs": [],
   "source": [
    "df_ords_prods.loc[(df_ords_prods['prices'] <= 15) & (df_ords_prods['prices'] > 5), 'price_range'] = 'Mid-range product'"
   ]
  },
  {
   "cell_type": "code",
   "execution_count": 9,
   "id": "9928a2f6-18c4-42e8-80bc-e98f5f246221",
   "metadata": {},
   "outputs": [],
   "source": [
    "df_ords_prods.loc[df_ords_prods['prices'] <= 5, 'price_range'] = 'Low-range product'"
   ]
  },
  {
   "cell_type": "code",
   "execution_count": 10,
   "id": "f02e3a51-6c86-4745-9188-26b896025be7",
   "metadata": {},
   "outputs": [
    {
     "data": {
      "text/plain": [
       "price_range\n",
       "Mid-range product     21860860\n",
       "Low-range product     10126321\n",
       "High-range product      412551\n",
       "NaN                       5127\n",
       "Name: count, dtype: int64"
      ]
     },
     "execution_count": 10,
     "metadata": {},
     "output_type": "execute_result"
    }
   ],
   "source": [
    "df_ords_prods['price_range'].value_counts(dropna=False)"
   ]
  },
  {
   "cell_type": "markdown",
   "id": "3a306217-2b54-4086-83b0-5bf86e41abcd",
   "metadata": {},
   "source": [
    "### Derive busiest_day column using for loop"
   ]
  },
  {
   "cell_type": "code",
   "execution_count": 12,
   "id": "dc75ffa8-2c0e-47ed-b43d-070ea788bcd1",
   "metadata": {},
   "outputs": [
    {
     "data": {
      "text/plain": [
       "busiest_day\n",
       "Regularly busy day    22416875\n",
       "Busiest day            6204182\n",
       "Least busy day         3783802\n",
       "Name: count, dtype: int64"
      ]
     },
     "execution_count": 12,
     "metadata": {},
     "output_type": "execute_result"
    }
   ],
   "source": [
    "result = []\n",
    "\n",
    "for value in df_ords_prods[\"order_dow\"]:\n",
    "  if value in [0]:\n",
    "    result.append(\"Busiest day\")\n",
    "  elif value in [4]:\n",
    "    result.append(\"Least busy day\")\n",
    "  else:\n",
    "    result.append(\"Regularly busy day\")\n",
    "\n",
    "df_ords_prods['busiest_day'] = result\n",
    "df_ords_prods['busiest_day'].value_counts(dropna=False)"
   ]
  },
  {
   "cell_type": "markdown",
   "id": "62783caf-8fcc-4164-b301-4378b86800bc",
   "metadata": {},
   "source": [
    "### Derive busiest_days column using .loc"
   ]
  },
  {
   "cell_type": "code",
   "execution_count": 14,
   "id": "b13fac05-e744-495a-a546-76fc0f4283a7",
   "metadata": {},
   "outputs": [],
   "source": [
    "df_ords_prods.loc[df_ords_prods['order_dow'].isin([0,1]), 'busiest_days_loc'] = 'Busiest days'"
   ]
  },
  {
   "cell_type": "code",
   "execution_count": 15,
   "id": "55a670bd-ba5c-4e34-ac89-d23eeb1fef04",
   "metadata": {},
   "outputs": [],
   "source": [
    "df_ords_prods.loc[df_ords_prods['order_dow'].isin([2,5,6]), 'busiest_days_loc'] = 'Regularly busy'"
   ]
  },
  {
   "cell_type": "code",
   "execution_count": 16,
   "id": "23d0b71a-4b33-40c1-bbe6-dc50b2c76b02",
   "metadata": {},
   "outputs": [],
   "source": [
    "df_ords_prods.loc[df_ords_prods['order_dow'].isin([3,4]), 'busiest_days_loc'] = 'Least busy days'"
   ]
  },
  {
   "cell_type": "code",
   "execution_count": 17,
   "id": "b37ea92e-cd79-49b0-8c96-fdb73b8acb5a",
   "metadata": {},
   "outputs": [
    {
     "data": {
      "text/plain": [
       "busiest_days_loc\n",
       "Regularly busy     12916111\n",
       "Busiest days       11864412\n",
       "Least busy days     7624336\n",
       "Name: count, dtype: int64"
      ]
     },
     "execution_count": 17,
     "metadata": {},
     "output_type": "execute_result"
    }
   ],
   "source": [
    "# Print frequency table for busiest_days_loc\n",
    "df_ords_prods['busiest_days_loc'].value_counts(dropna=False)"
   ]
  },
  {
   "cell_type": "markdown",
   "id": "ffc9ec8b-a1c7-4a6b-add7-0cc1979d8f47",
   "metadata": {},
   "source": [
    "#### \"Busiest days\" count is just under double the previous \"busiest day\" count\n",
    "#### \"Least busy days\" count is just over double previous \"least busy day\" count\n",
    "#### All as expected."
   ]
  },
  {
   "cell_type": "markdown",
   "id": "6c6c6fd8-263b-4101-8a96-dd015094073e",
   "metadata": {},
   "source": [
    "### Create busiest_period_of_day column"
   ]
  },
  {
   "cell_type": "code",
   "execution_count": 20,
   "id": "673a248c-54ea-49ce-8eaf-f0111757748f",
   "metadata": {},
   "outputs": [
    {
     "data": {
      "text/plain": [
       "order_hour_of_day\n",
       "10    2761760\n",
       "11    2736140\n",
       "14    2689136\n",
       "15    2662144\n",
       "13    2660954\n",
       "12    2618532\n",
       "16    2535202\n",
       "9     2454203\n",
       "17    2087654\n",
       "8     1718118\n",
       "18    1636502\n",
       "19    1258305\n",
       "20     976156\n",
       "7      891054\n",
       "21     795637\n",
       "22     634225\n",
       "23     402316\n",
       "6      290493\n",
       "0      218769\n",
       "1      115700\n",
       "5       87961\n",
       "2       69375\n",
       "4       53242\n",
       "3       51281\n",
       "Name: count, dtype: int64"
      ]
     },
     "execution_count": 20,
     "metadata": {},
     "output_type": "execute_result"
    }
   ],
   "source": [
    "# Print frequency table for order_hour_of_day\n",
    "df_ords_prods['order_hour_of_day'].value_counts(dropna=False)"
   ]
  },
  {
   "cell_type": "code",
   "execution_count": 21,
   "id": "0dfbdffd-e0a1-493d-8614-f6cc8f5ebc6a",
   "metadata": {},
   "outputs": [
    {
     "name": "stdout",
     "output_type": "stream",
     "text": [
      "Index([10, 11, 14, 15, 13, 12], dtype='int8', name='order_hour_of_day')\n",
      "Index([16, 9, 17, 8, 18, 19, 20, 7, 21, 22, 23, 6], dtype='int8', name='order_hour_of_day')\n",
      "Index([0, 1, 5, 2, 4, 3], dtype='int8', name='order_hour_of_day')\n"
     ]
    }
   ],
   "source": [
    "# Define busiest and least busy periods\n",
    "\n",
    "orders_by_hour = df_ords_prods['order_hour_of_day'].value_counts(dropna=False)\n",
    "\n",
    "busy_hours = orders_by_hour[orders_by_hour>np.percentile(orders_by_hour, 75)].index\n",
    "regular_hours = orders_by_hour[(orders_by_hour>np.percentile(orders_by_hour, 25)) & (orders_by_hour<=np.percentile(orders_by_hour, 75))].index\n",
    "slow_hours = orders_by_hour[orders_by_hour<=np.percentile(orders_by_hour, 25)].index\n",
    "\n",
    "print(busy_hours)\n",
    "print(regular_hours)\n",
    "print(slow_hours)"
   ]
  },
  {
   "cell_type": "markdown",
   "id": "f2af2bf5-1e30-421f-9df6-f485ff7938ea",
   "metadata": {},
   "source": [
    "### Create busiest_period_of_day column using .loc"
   ]
  },
  {
   "cell_type": "code",
   "execution_count": 23,
   "id": "4661b910-bd0f-4345-ad7b-2a6776211326",
   "metadata": {},
   "outputs": [],
   "source": [
    "df_ords_prods.loc[df_ords_prods['order_hour_of_day'].isin(busy_hours), 'busiest_period_of_day'] = 'Most orders'"
   ]
  },
  {
   "cell_type": "code",
   "execution_count": 24,
   "id": "2792c2b1-b74e-4862-adf0-ddda4f3ea007",
   "metadata": {},
   "outputs": [],
   "source": [
    "df_ords_prods.loc[df_ords_prods['order_hour_of_day'].isin(regular_hours), 'busiest_period_of_day'] = 'Average orders'"
   ]
  },
  {
   "cell_type": "code",
   "execution_count": 25,
   "id": "713b6f98-d9b9-4c64-8d4f-d0ee3a704aa1",
   "metadata": {},
   "outputs": [],
   "source": [
    "df_ords_prods.loc[df_ords_prods['order_hour_of_day'].isin(slow_hours), 'busiest_period_of_day'] = 'Fewest orders'"
   ]
  },
  {
   "cell_type": "code",
   "execution_count": 26,
   "id": "bef08b3a-4af1-4d1c-8364-1ba185681e30",
   "metadata": {},
   "outputs": [
    {
     "name": "stdout",
     "output_type": "stream",
     "text": [
      "busiest_period_of_day\n",
      "Most orders       16128666\n",
      "Average orders    15679865\n",
      "Fewest orders       596328\n",
      "Name: count, dtype: int64\n"
     ]
    }
   ],
   "source": [
    "# Print frequency table for busiest_period_of_day\n",
    "print(df_ords_prods['busiest_period_of_day'].value_counts(dropna=False))"
   ]
  },
  {
   "cell_type": "markdown",
   "id": "1fa6d950-df29-48c2-9d35-0c30cf7e548e",
   "metadata": {},
   "source": [
    "# 03. Check and export DataFrame"
   ]
  },
  {
   "cell_type": "code",
   "execution_count": 28,
   "id": "a95478ba-516f-43fd-91b2-5dd00c100143",
   "metadata": {},
   "outputs": [
    {
     "name": "stdout",
     "output_type": "stream",
     "text": [
      "   product_id                product_name  aisle_id  department_id    prices  \\\n",
      "0           1  Chocolate Sandwich Cookies        61             19  5.800781   \n",
      "1           1  Chocolate Sandwich Cookies        61             19  5.800781   \n",
      "2           1  Chocolate Sandwich Cookies        61             19  5.800781   \n",
      "3           1  Chocolate Sandwich Cookies        61             19  5.800781   \n",
      "4           1  Chocolate Sandwich Cookies        61             19  5.800781   \n",
      "\n",
      "   order_id  user_id  order_number  order_dow  order_hour_of_day  ...  \\\n",
      "0   3139998      138            28          6                 11  ...   \n",
      "1   1977647      138            30          6                 17  ...   \n",
      "2    389851      709             2          0                 21  ...   \n",
      "3    652770      764             1          3                 13  ...   \n",
      "4   1813452      764             3          4                 17  ...   \n",
      "\n",
      "       state  age  date_joined n_dependents fam_status  income  \\\n",
      "0  Minnesota   81     8/1/2019            1    married   49620   \n",
      "1  Minnesota   81     8/1/2019            1    married   49620   \n",
      "2    Vermont   66    6/16/2018            2    married  158302   \n",
      "3  Wisconsin   40     2/9/2020            3    married   31308   \n",
      "4  Wisconsin   40     2/9/2020            3    married   31308   \n",
      "\n",
      "         price_range         busiest_day busiest_days_loc  \\\n",
      "0  Mid-range product  Regularly busy day   Regularly busy   \n",
      "1  Mid-range product  Regularly busy day   Regularly busy   \n",
      "2  Mid-range product         Busiest day     Busiest days   \n",
      "3  Mid-range product  Regularly busy day  Least busy days   \n",
      "4  Mid-range product      Least busy day  Least busy days   \n",
      "\n",
      "   busiest_period_of_day  \n",
      "0            Most orders  \n",
      "1         Average orders  \n",
      "2         Average orders  \n",
      "3            Most orders  \n",
      "4         Average orders  \n",
      "\n",
      "[5 rows x 26 columns]\n"
     ]
    }
   ],
   "source": [
    "# Check updated DataFrame\n",
    "print(df_ords_prods.head())"
   ]
  },
  {
   "cell_type": "code",
   "execution_count": 48,
   "id": "0e309461-eb0d-41ad-b901-751dcdb3c74c",
   "metadata": {},
   "outputs": [
    {
     "name": "stdout",
     "output_type": "stream",
     "text": [
      "<class 'pandas.core.frame.DataFrame'>\n",
      "RangeIndex: 32404859 entries, 0 to 32404858\n",
      "Data columns (total 26 columns):\n",
      " #   Column                  Dtype  \n",
      "---  ------                  -----  \n",
      " 0   product_id              int32  \n",
      " 1   product_name            object \n",
      " 2   aisle_id                int8   \n",
      " 3   department_id           int8   \n",
      " 4   prices                  float16\n",
      " 5   order_id                int32  \n",
      " 6   user_id                 int32  \n",
      " 7   order_number            int8   \n",
      " 8   order_dow               int8   \n",
      " 9   order_hour_of_day       int8   \n",
      " 10  days_since_prior_order  float16\n",
      " 11  add_to_cart_order       int32  \n",
      " 12  reordered               int8   \n",
      " 13  first_name              object \n",
      " 14  last_name               object \n",
      " 15  gender                  object \n",
      " 16  state                   object \n",
      " 17  age                     int8   \n",
      " 18  date_joined             object \n",
      " 19  n_dependents            int8   \n",
      " 20  fam_status              object \n",
      " 21  income                  int32  \n",
      " 22  price_range             object \n",
      " 23  busiest_day             object \n",
      " 24  busiest_days_loc        object \n",
      " 25  busiest_period_of_day   object \n",
      "dtypes: float16(2), int32(5), int8(8), object(11)\n",
      "memory usage: 3.6+ GB\n",
      "None\n"
     ]
    },
    {
     "name": "stderr",
     "output_type": "stream",
     "text": [
      "/home/scruffy/anaconda3/lib/python3.12/site-packages/pandas/core/nanops.py:1487: RuntimeWarning: overflow encountered in cast\n",
      "  return dtype.type(n)\n",
      "/home/scruffy/anaconda3/lib/python3.12/site-packages/numpy/core/_methods.py:49: RuntimeWarning: overflow encountered in reduce\n",
      "  return umr_sum(a, axis, dtype, out, keepdims, initial, where)\n",
      "/home/scruffy/anaconda3/lib/python3.12/site-packages/pandas/core/nanops.py:731: RuntimeWarning: invalid value encountered in scalar divide\n",
      "  the_mean = the_sum / count if count > 0 else np.nan\n",
      "/home/scruffy/anaconda3/lib/python3.12/site-packages/pandas/core/nanops.py:1487: RuntimeWarning: overflow encountered in cast\n",
      "  return dtype.type(n)\n",
      "/home/scruffy/anaconda3/lib/python3.12/site-packages/pandas/core/nanops.py:1487: RuntimeWarning: overflow encountered in cast\n",
      "  return dtype.type(n)\n",
      "/home/scruffy/anaconda3/lib/python3.12/site-packages/numpy/core/_methods.py:49: RuntimeWarning: overflow encountered in reduce\n",
      "  return umr_sum(a, axis, dtype, out, keepdims, initial, where)\n",
      "/home/scruffy/anaconda3/lib/python3.12/site-packages/pandas/core/nanops.py:731: RuntimeWarning: invalid value encountered in scalar divide\n",
      "  the_mean = the_sum / count if count > 0 else np.nan\n",
      "/home/scruffy/anaconda3/lib/python3.12/site-packages/pandas/core/nanops.py:1487: RuntimeWarning: overflow encountered in cast\n",
      "  return dtype.type(n)\n"
     ]
    },
    {
     "name": "stdout",
     "output_type": "stream",
     "text": [
      "         product_id      aisle_id  department_id        prices      order_id  \\\n",
      "count  3.240486e+07  3.240486e+07   3.240486e+07  3.239973e+07  3.240486e+07   \n",
      "mean   2.559866e+04  6.449111e+01   9.919792e+00           NaN  1.710745e+06   \n",
      "std    1.408400e+04  4.843815e+01   6.281485e+00  0.000000e+00  9.872988e+05   \n",
      "min    1.000000e+00 -1.280000e+02   1.000000e+00  1.000000e+00  2.000000e+00   \n",
      "25%    1.354400e+04  2.400000e+01   4.000000e+00  4.199219e+00  8.559470e+05   \n",
      "50%    2.530200e+04  7.900000e+01   9.000000e+00  7.398438e+00  1.711049e+06   \n",
      "75%    3.794700e+04  1.000000e+02   1.600000e+01  1.129688e+01  2.565499e+06   \n",
      "max    4.968800e+04  1.270000e+02   2.100000e+01  2.500000e+01  3.421083e+06   \n",
      "\n",
      "            user_id  order_number     order_dow  order_hour_of_day  \\\n",
      "count  3.240486e+07  3.240486e+07  3.240486e+07       3.240486e+07   \n",
      "mean   1.029372e+05  1.714230e+01  2.738867e+00       1.342515e+01   \n",
      "std    5.946610e+04  1.753532e+01  2.090077e+00       4.246380e+00   \n",
      "min    1.000000e+00  1.000000e+00  0.000000e+00       0.000000e+00   \n",
      "25%    5.142200e+04  5.000000e+00  1.000000e+00       1.000000e+01   \n",
      "50%    1.026160e+05  1.100000e+01  3.000000e+00       1.300000e+01   \n",
      "75%    1.543890e+05  2.400000e+01  5.000000e+00       1.600000e+01   \n",
      "max    2.062090e+05  9.900000e+01  6.000000e+00       2.300000e+01   \n",
      "\n",
      "       days_since_prior_order  add_to_cart_order     reordered           age  \\\n",
      "count              30328763.0       3.240486e+07  3.240486e+07  3.240486e+07   \n",
      "mean                      NaN       8.352547e+00  5.895873e-01  4.946527e+01   \n",
      "std                       0.0       7.127071e+00  4.919087e-01  1.848558e+01   \n",
      "min                       0.0       1.000000e+00  0.000000e+00  1.800000e+01   \n",
      "25%                       5.0       3.000000e+00  0.000000e+00  3.300000e+01   \n",
      "50%                       8.0       6.000000e+00  1.000000e+00  4.900000e+01   \n",
      "75%                      15.0       1.100000e+01  1.000000e+00  6.500000e+01   \n",
      "max                      30.0       1.450000e+02  1.000000e+00  8.100000e+01   \n",
      "\n",
      "       n_dependents        income  \n",
      "count  3.240486e+07  3.240486e+07  \n",
      "mean   1.501896e+00  9.943773e+04  \n",
      "std    1.118865e+00  4.305727e+04  \n",
      "min    0.000000e+00  2.590300e+04  \n",
      "25%    1.000000e+00  6.700400e+04  \n",
      "50%    2.000000e+00  9.661800e+04  \n",
      "75%    3.000000e+00  1.279120e+05  \n",
      "max    3.000000e+00  5.939010e+05  \n"
     ]
    }
   ],
   "source": [
    "print(df_ords_prods.info())\n",
    "print(df_ords_prods.describe())"
   ]
  },
  {
   "cell_type": "code",
   "execution_count": 403,
   "id": "c2407301-23a4-4f9b-81a8-a0e0075f19ca",
   "metadata": {},
   "outputs": [],
   "source": [
    "# Export data to pkl\n",
    "df_ords_prods.drop(['busiest_day'], axis=1, inplace=True)\n",
    "df_ords_prods.to_pickle(os.path.join(path, '02 Data','Prepared Data', 'ords_prods_added_cols.pkl'))"
   ]
  }
 ],
 "metadata": {
  "kernelspec": {
   "display_name": "Python [conda env:base] *",
   "language": "python",
   "name": "conda-base-py"
  },
  "language_info": {
   "codemirror_mode": {
    "name": "ipython",
    "version": 3
   },
   "file_extension": ".py",
   "mimetype": "text/x-python",
   "name": "python",
   "nbconvert_exporter": "python",
   "pygments_lexer": "ipython3",
   "version": "3.12.7"
  }
 },
 "nbformat": 4,
 "nbformat_minor": 5
}
