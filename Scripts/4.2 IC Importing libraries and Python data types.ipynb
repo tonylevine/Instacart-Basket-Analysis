{
 "cells": [
  {
   "cell_type": "markdown",
   "id": "335bcb3e-27c3-40c1-b852-279e81758426",
   "metadata": {},
   "source": [
    "# 01. Importing libraries"
   ]
  },
  {
   "cell_type": "code",
   "execution_count": 21,
   "id": "dc70303a-80a6-4d3b-8894-a2847f92621b",
   "metadata": {},
   "outputs": [],
   "source": [
    "# Import libraries\n",
    "import pandas as pd\n",
    "import numpy as np\n",
    "import os"
   ]
  },
  {
   "cell_type": "markdown",
   "id": "d171ca16-94b0-4de9-9649-1453e4c36872",
   "metadata": {},
   "source": [
    "# 02. Working with Python Data Types"
   ]
  },
  {
   "cell_type": "code",
   "execution_count": 13,
   "id": "4a963814-8095-49c6-9ec7-b52462459276",
   "metadata": {},
   "outputs": [
    {
     "name": "stdout",
     "output_type": "stream",
     "text": [
      "100\n"
     ]
    }
   ],
   "source": [
    "# Adding and subtracting to 100 - first way\n",
    "x = 107\n",
    "print(x-7)"
   ]
  },
  {
   "cell_type": "code",
   "execution_count": 17,
   "id": "69aa53df-3362-49b4-a2e1-6b4b9b7a7512",
   "metadata": {},
   "outputs": [
    {
     "name": "stdout",
     "output_type": "stream",
     "text": [
      "100\n"
     ]
    }
   ],
   "source": [
    "# Adding and subtracting to 100 - second way\n",
    "x = 9**2\n",
    "y = 19\n",
    "print(x+y)"
   ]
  },
  {
   "cell_type": "code",
   "execution_count": 19,
   "id": "0c15416f-ab51-4ae5-ad6c-a9c5d4aa5a95",
   "metadata": {},
   "outputs": [
    {
     "name": "stdout",
     "output_type": "stream",
     "text": [
      "2\n",
      "3\n",
      "4\n",
      "5\n",
      "6\n",
      "7\n",
      "8\n",
      "9\n",
      "10\n",
      "11\n",
      "12\n",
      "13\n",
      "14\n",
      "15\n",
      "16\n",
      "17\n",
      "18\n",
      "19\n",
      "20\n",
      "21\n",
      "22\n",
      "23\n",
      "24\n",
      "25\n",
      "26\n",
      "27\n",
      "28\n",
      "29\n",
      "30\n",
      "31\n",
      "32\n",
      "33\n",
      "34\n",
      "35\n",
      "36\n",
      "37\n",
      "38\n",
      "39\n",
      "40\n",
      "41\n",
      "42\n",
      "43\n",
      "44\n",
      "45\n",
      "46\n",
      "47\n",
      "48\n",
      "49\n",
      "50\n",
      "51\n",
      "52\n",
      "53\n",
      "54\n",
      "55\n",
      "56\n",
      "57\n",
      "58\n",
      "59\n",
      "60\n",
      "61\n",
      "62\n",
      "63\n",
      "64\n",
      "65\n",
      "66\n",
      "67\n",
      "68\n",
      "69\n",
      "70\n",
      "71\n",
      "72\n",
      "73\n",
      "74\n",
      "75\n",
      "76\n",
      "77\n",
      "78\n",
      "79\n",
      "80\n",
      "81\n",
      "82\n",
      "83\n",
      "84\n",
      "85\n",
      "86\n",
      "87\n",
      "88\n",
      "89\n",
      "90\n",
      "91\n",
      "92\n",
      "93\n",
      "94\n",
      "95\n",
      "96\n",
      "97\n",
      "98\n",
      "99\n",
      "100\n"
     ]
    }
   ],
   "source": [
    "# Adding and subtracting to 100 - third way\n",
    "x = 1\n",
    "while x < 100 :\n",
    "    x = x + 1\n",
    "    print(x)"
   ]
  },
  {
   "cell_type": "code",
   "execution_count": 31,
   "id": "e8eff895-f24b-470d-a1df-52a46b6762c1",
   "metadata": {},
   "outputs": [
    {
     "name": "stdout",
     "output_type": "stream",
     "text": [
      "1.4468631190172305\n"
     ]
    }
   ],
   "source": [
    "# Floating point division\n",
    "x = 50/11\n",
    "y = np.pi\n",
    "\n",
    "print(x/y)"
   ]
  },
  {
   "cell_type": "code",
   "execution_count": 33,
   "id": "8e80b7c5-8dbb-4d8b-9bdb-d03f86f3caa7",
   "metadata": {},
   "outputs": [
    {
     "name": "stdout",
     "output_type": "stream",
     "text": [
      "Firewater\n"
     ]
    }
   ],
   "source": [
    "# Concatenating strings\n",
    "short = 'Fire'\n",
    "word = 'water'\n",
    "\n",
    "print(short+word)"
   ]
  },
  {
   "cell_type": "code",
   "execution_count": 45,
   "id": "5bd1caa7-3e7b-4f51-93a8-63b4b2248951",
   "metadata": {},
   "outputs": [
    {
     "name": "stdout",
     "output_type": "stream",
     "text": [
      "Hey! There's a line here. Now there's two lines.\n",
      "Hey! There's a line here.Hey! There's a line here.Hey! There's a line here.Hey! There's a line here.Hey! There's a line here.Hey! There's a line here.Hey! There's a line here.Hey! There's a line here.Hey! There's a line here.Hey! There's a line here.Hey! There's a line here.Hey! There's a line here.Hey! There's a line here.Hey! There's a line here.Hey! There's a line here.Hey! There's a line here.Hey! There's a line here.Hey! There's a line here.Hey! There's a line here.Hey! There's a line here.Hey! There's a line here.Hey! There's a line here.Hey! There's a line here.Hey! There's a line here.Hey! There's a line here.Hey! There's a line here.Hey! There's a line here.Hey! There's a line here.Hey! There's a line here.Hey! There's a line here.Hey! There's a line here.Hey! There's a line here.Hey! There's a line here.Hey! There's a line here.Hey! There's a line here.Hey! There's a line here.Hey! There's a line here.Hey! There's a line here.Hey! There's a line here.Hey! There's a line here.Hey! There's a line here.Hey! There's a line here.Hey! There's a line here.Hey! There's a line here.Hey! There's a line here.Hey! There's a line here.Hey! There's a line here.Hey! There's a line here.Hey! There's a line here.Hey! There's a line here.Hey! There's a line here.Hey! There's a line here.Hey! There's a line here.Hey! There's a line here.Hey! There's a line here.Hey! There's a line here.Hey! There's a line here.Hey! There's a line here.Hey! There's a line here.Hey! There's a line here.Hey! There's a line here.Hey! There's a line here.Hey! There's a line here.Hey! There's a line here.Hey! There's a line here.Hey! There's a line here.Hey! There's a line here.Hey! There's a line here.Hey! There's a line here.Hey! There's a line here.Hey! There's a line here.Hey! There's a line here.Hey! There's a line here.Hey! There's a line here.Hey! There's a line here.Hey! There's a line here.Hey! There's a line here.Hey! There's a line here.Hey! There's a line here.Hey! There's a line here.Hey! There's a line here.Hey! There's a line here.Hey! There's a line here.Hey! There's a line here.Hey! There's a line here.Hey! There's a line here.Hey! There's a line here.Hey! There's a line here.Hey! There's a line here.Hey! There's a line here.Hey! There's a line here.Hey! There's a line here.Hey! There's a line here.Hey! There's a line here.Hey! There's a line here.Hey! There's a line here.Hey! There's a line here.Hey! There's a line here.Hey! There's a line here.Hey! There's a line here.\n"
     ]
    }
   ],
   "source": [
    "# Concatenating strings pt. 2\n",
    "a = \"Hey! There's a line here.\"\n",
    "b = \" Now there's two lines.\"\n",
    "\n",
    "print(a+b)\n",
    "\n",
    "# Bonus task\n",
    "print(a*10**2)"
   ]
  },
  {
   "cell_type": "code",
   "execution_count": null,
   "id": "1eb38553-66bd-4a26-83d0-39af7a24db75",
   "metadata": {},
   "outputs": [],
   "source": []
  }
 ],
 "metadata": {
  "kernelspec": {
   "display_name": "Python [conda env:base] *",
   "language": "python",
   "name": "conda-base-py"
  },
  "language_info": {
   "codemirror_mode": {
    "name": "ipython",
    "version": 3
   },
   "file_extension": ".py",
   "mimetype": "text/x-python",
   "name": "python",
   "nbconvert_exporter": "python",
   "pygments_lexer": "ipython3",
   "version": "3.12.7"
  }
 },
 "nbformat": 4,
 "nbformat_minor": 5
}
