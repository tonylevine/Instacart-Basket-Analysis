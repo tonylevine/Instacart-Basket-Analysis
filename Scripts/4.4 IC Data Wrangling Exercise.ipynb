{
 "cells": [
  {
   "cell_type": "markdown",
   "id": "014d08c3-ec51-47ba-a808-c33b75b6b0a1",
   "metadata": {},
   "source": [
    "# 01. Import libraries and data"
   ]
  },
  {
   "cell_type": "code",
   "execution_count": 2,
   "id": "6ba5529f-ae0b-4324-ac0e-c17b73ba461b",
   "metadata": {},
   "outputs": [],
   "source": [
    "# Import libraries\n",
    "import pandas as pd\n",
    "import numpy as np\n",
    "import os"
   ]
  },
  {
   "cell_type": "code",
   "execution_count": 3,
   "id": "ea88a8b9-fb8c-497f-896d-f7903d22b0ba",
   "metadata": {},
   "outputs": [],
   "source": [
    "# Define path\n",
    "path = r'/home/scruffy/anaconda_projects/Instacart Basket Analysis/'"
   ]
  },
  {
   "cell_type": "code",
   "execution_count": 4,
   "id": "29a14127-dbbf-40d7-84de-0f4d96df6ea7",
   "metadata": {},
   "outputs": [],
   "source": [
    "# Import dataframes\n",
    "df_ords = pd.read_csv(os.path.join(path, '02 Data', 'Original Data', 'orders.csv'))\n",
    "df_prods = pd.read_csv(os.path.join(path, '02 Data', 'Original Data', 'products.csv'))\n",
    "df_depts = pd.read_csv(os.path.join(path, '02 Data', 'Original Data', 'departments.csv'))"
   ]
  },
  {
   "cell_type": "code",
   "execution_count": 10,
   "id": "b428a965-8bd6-4fd5-a722-aaa4ded94c7b",
   "metadata": {},
   "outputs": [
    {
     "name": "stdout",
     "output_type": "stream",
     "text": [
      "(3421083, 7)\n",
      "(49693, 5)\n"
     ]
    }
   ],
   "source": [
    "print(df_ords.shape)\n",
    "print(df_prods.shape)"
   ]
  },
  {
   "cell_type": "markdown",
   "id": "574ab3da-9287-4dcd-8e48-62f2278e34de",
   "metadata": {},
   "source": [
    "# 02. Arrange data"
   ]
  },
  {
   "cell_type": "code",
   "execution_count": 85,
   "id": "fcd7d0ee-cc04-4cf3-9515-12f367db711a",
   "metadata": {},
   "outputs": [
    {
     "name": "stdout",
     "output_type": "stream",
     "text": [
      "department_id       department\n",
      "1                       frozen\n",
      "2                        other\n",
      "3                       bakery\n",
      "4                      produce\n",
      "5                      alcohol\n",
      "6                international\n",
      "7                    beverages\n",
      "8                         pets\n",
      "9              dry goods pasta\n",
      "10                        bulk\n",
      "11               personal care\n",
      "12                meat seafood\n",
      "13                      pantry\n",
      "14                   breakfast\n",
      "15                canned goods\n",
      "16                  dairy eggs\n",
      "17                   household\n",
      "18                      babies\n",
      "19                      snacks\n",
      "20                        deli\n",
      "21                     missing\n"
     ]
    }
   ],
   "source": [
    "# Change data type for order_id\n",
    "df_ords['order_id'] = df_ords['order_id'].astype('str')\n",
    "\n",
    "# Transpose departments.csv data\n",
    "df_depts_t = df_depts.T\n",
    "new_header = df_depts_t.iloc[0]\n",
    "df_depts_t_new = df_depts_t[1:]\n",
    "df_depts_t_new.columns = new_header\n",
    "print(df_depts_t_new)"
   ]
  },
  {
   "cell_type": "markdown",
   "id": "4f862df9-7bb2-46c9-b5d4-0a72683b39f9",
   "metadata": {},
   "source": [
    "# 03. Set data dictionary"
   ]
  },
  {
   "cell_type": "code",
   "execution_count": 87,
   "id": "4709c929-f7a9-469f-94a7-bc25f8463930",
   "metadata": {},
   "outputs": [],
   "source": [
    "data_dict = df_depts_t_new.to_dict('index')"
   ]
  },
  {
   "cell_type": "markdown",
   "id": "a5019034-604c-43d2-b577-302e385030b1",
   "metadata": {},
   "source": [
    "# 04. Exercise Step 2"
   ]
  },
  {
   "cell_type": "code",
   "execution_count": 89,
   "id": "cc9a8d43-b390-4014-8d11-1857f230dc31",
   "metadata": {},
   "outputs": [
    {
     "name": "stdout",
     "output_type": "stream",
     "text": [
      "object\n"
     ]
    }
   ],
   "source": [
    "# Change data type for user_id\n",
    "df_ords['user_id'] = df_ords['user_id'].astype('str')\n",
    "print(df_ords['user_id'].dtype)"
   ]
  },
  {
   "cell_type": "markdown",
   "id": "5b1e8d78-a51a-46e9-9cd8-b0fc6485906a",
   "metadata": {},
   "source": [
    "# 05. Exercise Step 3"
   ]
  },
  {
   "cell_type": "code",
   "execution_count": 91,
   "id": "69a8766e-6ac7-40b2-920f-0bc1061f4ef2",
   "metadata": {},
   "outputs": [
    {
     "data": {
      "text/html": [
       "<div>\n",
       "<style scoped>\n",
       "    .dataframe tbody tr th:only-of-type {\n",
       "        vertical-align: middle;\n",
       "    }\n",
       "\n",
       "    .dataframe tbody tr th {\n",
       "        vertical-align: top;\n",
       "    }\n",
       "\n",
       "    .dataframe thead th {\n",
       "        text-align: right;\n",
       "    }\n",
       "</style>\n",
       "<table border=\"1\" class=\"dataframe\">\n",
       "  <thead>\n",
       "    <tr style=\"text-align: right;\">\n",
       "      <th></th>\n",
       "      <th>order_id</th>\n",
       "      <th>user_id</th>\n",
       "      <th>eval_set</th>\n",
       "      <th>number_of_orders_by_user</th>\n",
       "      <th>order_dow</th>\n",
       "      <th>order_hour_of_day</th>\n",
       "      <th>days_since_prior_order</th>\n",
       "    </tr>\n",
       "  </thead>\n",
       "  <tbody>\n",
       "    <tr>\n",
       "      <th>0</th>\n",
       "      <td>2539329</td>\n",
       "      <td>1</td>\n",
       "      <td>prior</td>\n",
       "      <td>1</td>\n",
       "      <td>2</td>\n",
       "      <td>8</td>\n",
       "      <td>NaN</td>\n",
       "    </tr>\n",
       "    <tr>\n",
       "      <th>1</th>\n",
       "      <td>2398795</td>\n",
       "      <td>1</td>\n",
       "      <td>prior</td>\n",
       "      <td>2</td>\n",
       "      <td>3</td>\n",
       "      <td>7</td>\n",
       "      <td>15.0</td>\n",
       "    </tr>\n",
       "    <tr>\n",
       "      <th>2</th>\n",
       "      <td>473747</td>\n",
       "      <td>1</td>\n",
       "      <td>prior</td>\n",
       "      <td>3</td>\n",
       "      <td>3</td>\n",
       "      <td>12</td>\n",
       "      <td>21.0</td>\n",
       "    </tr>\n",
       "    <tr>\n",
       "      <th>3</th>\n",
       "      <td>2254736</td>\n",
       "      <td>1</td>\n",
       "      <td>prior</td>\n",
       "      <td>4</td>\n",
       "      <td>4</td>\n",
       "      <td>7</td>\n",
       "      <td>29.0</td>\n",
       "    </tr>\n",
       "    <tr>\n",
       "      <th>4</th>\n",
       "      <td>431534</td>\n",
       "      <td>1</td>\n",
       "      <td>prior</td>\n",
       "      <td>5</td>\n",
       "      <td>4</td>\n",
       "      <td>15</td>\n",
       "      <td>28.0</td>\n",
       "    </tr>\n",
       "    <tr>\n",
       "      <th>...</th>\n",
       "      <td>...</td>\n",
       "      <td>...</td>\n",
       "      <td>...</td>\n",
       "      <td>...</td>\n",
       "      <td>...</td>\n",
       "      <td>...</td>\n",
       "      <td>...</td>\n",
       "    </tr>\n",
       "    <tr>\n",
       "      <th>3421078</th>\n",
       "      <td>2266710</td>\n",
       "      <td>206209</td>\n",
       "      <td>prior</td>\n",
       "      <td>10</td>\n",
       "      <td>5</td>\n",
       "      <td>18</td>\n",
       "      <td>29.0</td>\n",
       "    </tr>\n",
       "    <tr>\n",
       "      <th>3421079</th>\n",
       "      <td>1854736</td>\n",
       "      <td>206209</td>\n",
       "      <td>prior</td>\n",
       "      <td>11</td>\n",
       "      <td>4</td>\n",
       "      <td>10</td>\n",
       "      <td>30.0</td>\n",
       "    </tr>\n",
       "    <tr>\n",
       "      <th>3421080</th>\n",
       "      <td>626363</td>\n",
       "      <td>206209</td>\n",
       "      <td>prior</td>\n",
       "      <td>12</td>\n",
       "      <td>1</td>\n",
       "      <td>12</td>\n",
       "      <td>18.0</td>\n",
       "    </tr>\n",
       "    <tr>\n",
       "      <th>3421081</th>\n",
       "      <td>2977660</td>\n",
       "      <td>206209</td>\n",
       "      <td>prior</td>\n",
       "      <td>13</td>\n",
       "      <td>1</td>\n",
       "      <td>12</td>\n",
       "      <td>7.0</td>\n",
       "    </tr>\n",
       "    <tr>\n",
       "      <th>3421082</th>\n",
       "      <td>272231</td>\n",
       "      <td>206209</td>\n",
       "      <td>train</td>\n",
       "      <td>14</td>\n",
       "      <td>6</td>\n",
       "      <td>14</td>\n",
       "      <td>30.0</td>\n",
       "    </tr>\n",
       "  </tbody>\n",
       "</table>\n",
       "<p>3421083 rows × 7 columns</p>\n",
       "</div>"
      ],
      "text/plain": [
       "        order_id user_id eval_set  number_of_orders_by_user  order_dow  \\\n",
       "0        2539329       1    prior                         1          2   \n",
       "1        2398795       1    prior                         2          3   \n",
       "2         473747       1    prior                         3          3   \n",
       "3        2254736       1    prior                         4          4   \n",
       "4         431534       1    prior                         5          4   \n",
       "...          ...     ...      ...                       ...        ...   \n",
       "3421078  2266710  206209    prior                        10          5   \n",
       "3421079  1854736  206209    prior                        11          4   \n",
       "3421080   626363  206209    prior                        12          1   \n",
       "3421081  2977660  206209    prior                        13          1   \n",
       "3421082   272231  206209    train                        14          6   \n",
       "\n",
       "         order_hour_of_day  days_since_prior_order  \n",
       "0                        8                     NaN  \n",
       "1                        7                    15.0  \n",
       "2                       12                    21.0  \n",
       "3                        7                    29.0  \n",
       "4                       15                    28.0  \n",
       "...                    ...                     ...  \n",
       "3421078                 18                    29.0  \n",
       "3421079                 10                    30.0  \n",
       "3421080                 12                    18.0  \n",
       "3421081                 12                     7.0  \n",
       "3421082                 14                    30.0  \n",
       "\n",
       "[3421083 rows x 7 columns]"
      ]
     },
     "execution_count": 91,
     "metadata": {},
     "output_type": "execute_result"
    }
   ],
   "source": [
    "# Rename order_number without overwriting dataframe\n",
    "df_ords.rename(columns = {'order_number':'number_of_orders_by_user'}, inplace = False)"
   ]
  },
  {
   "cell_type": "markdown",
   "id": "71ae429a-498b-427e-9036-bf63f40399bb",
   "metadata": {},
   "source": [
    "# 06. Exercise Step 4"
   ]
  },
  {
   "cell_type": "code",
   "execution_count": 93,
   "id": "4d2400f6-f40e-47a6-8fb8-95a2805d917b",
   "metadata": {},
   "outputs": [
    {
     "name": "stdout",
     "output_type": "stream",
     "text": [
      "order_hour_of_day\n",
      "10    288418\n",
      "Name: count, dtype: int64\n"
     ]
    }
   ],
   "source": [
    "# Count values order_hour_of_day\n",
    "df_ords_sorted = df_ords.value_counts('order_hour_of_day')\n",
    "print(df_ords_sorted.iloc[:1])"
   ]
  },
  {
   "cell_type": "markdown",
   "id": "c3e15b3f-1dc9-453d-8393-2842ebfe0ff2",
   "metadata": {},
   "source": [
    "## The busiest hour is 10:00 AM - 11:00 AM with 288,148 orders."
   ]
  },
  {
   "cell_type": "markdown",
   "id": "441e589a-464f-47ff-80b0-82d64ed847fa",
   "metadata": {},
   "source": [
    "# 07. Exercise Step 5"
   ]
  },
  {
   "cell_type": "code",
   "execution_count": 96,
   "id": "2c71c5e6-227c-4d4a-b579-e15989488726",
   "metadata": {},
   "outputs": [
    {
     "name": "stdout",
     "output_type": "stream",
     "text": [
      "{'department': 'produce'}\n"
     ]
    }
   ],
   "source": [
    "# Look up department 4 in data dictionary\n",
    "print(data_dict.get('4'))"
   ]
  },
  {
   "cell_type": "markdown",
   "id": "504b37c8-af88-4f55-9271-84211a057f11",
   "metadata": {},
   "source": [
    "# 08. Exercise Step 6"
   ]
  },
  {
   "cell_type": "code",
   "execution_count": 98,
   "id": "aa5bc0ab-eef8-4ed2-b3a6-7e77eb595037",
   "metadata": {},
   "outputs": [
    {
     "name": "stdout",
     "output_type": "stream",
     "text": [
      "     product_id                                      product_name  aisle_id  \\\n",
      "27           28                                 Wheat Chex Cereal       121   \n",
      "33           34                                               NaN       121   \n",
      "67           68                           Pancake Mix, Buttermilk       130   \n",
      "89           90                                      Smorz Cereal       121   \n",
      "210         211  Gluten Free Organic Cereal Coconut Maple Vanilla       130   \n",
      "\n",
      "     department_id  prices  \n",
      "27              14    10.1  \n",
      "33              14    12.2  \n",
      "67              14    13.7  \n",
      "89              14     3.9  \n",
      "210             14     3.6  \n"
     ]
    }
   ],
   "source": [
    "# Subset to include only breakfast items\n",
    "df_breakfast = df_prods[df_prods['department_id']==14]\n",
    "print(df_breakfast.head())"
   ]
  },
  {
   "cell_type": "markdown",
   "id": "55de13ef-7107-49c7-b1ed-e08464727f08",
   "metadata": {},
   "source": [
    "# 09. Exercise Step 7"
   ]
  },
  {
   "cell_type": "code",
   "execution_count": 100,
   "id": "2644b227-67b4-4983-8e83-b029062fb1a5",
   "metadata": {},
   "outputs": [],
   "source": [
    "# Subset to include only dinner party items\n",
    "df_party = df_prods[df_prods['department_id'].isin([5,7,12,20])]"
   ]
  },
  {
   "cell_type": "markdown",
   "id": "2570d941-9f5e-4c70-ab96-6dfeb7e9b281",
   "metadata": {},
   "source": [
    "# 10. Exercise Step 8"
   ]
  },
  {
   "cell_type": "code",
   "execution_count": 102,
   "id": "69fda397-a84c-4c2a-84d9-c257bc0fd1ab",
   "metadata": {},
   "outputs": [
    {
     "name": "stdout",
     "output_type": "stream",
     "text": [
      "(7650, 5)\n"
     ]
    }
   ],
   "source": [
    "# Count rows and columns of resulting dataframe\n",
    "print(df_party.shape)"
   ]
  },
  {
   "cell_type": "markdown",
   "id": "0bfbc744-1b01-4ad3-8aec-903bf6eca0e5",
   "metadata": {},
   "source": [
    "## There are 7650 rows in the dinner party dataframe."
   ]
  },
  {
   "cell_type": "markdown",
   "id": "d76af9b7-3f1e-439b-b178-914558da5ba7",
   "metadata": {},
   "source": [
    "# 11. Exercise Step 9"
   ]
  },
  {
   "cell_type": "code",
   "execution_count": 105,
   "id": "68f736d6-0764-455f-ae8f-72c40605f5b3",
   "metadata": {},
   "outputs": [],
   "source": [
    "# Subset orders.csv to user 1\n",
    "df_user_1 = df_ords[df_ords['user_id']=='1']"
   ]
  },
  {
   "cell_type": "markdown",
   "id": "969af3aa-2143-4109-ac33-4542a500cd64",
   "metadata": {},
   "source": [
    "# 12. Exercise Step 10"
   ]
  },
  {
   "cell_type": "code",
   "execution_count": 107,
   "id": "f362c6db-2a8c-4b41-b453-5ae409eb5f41",
   "metadata": {},
   "outputs": [
    {
     "name": "stdout",
     "output_type": "stream",
     "text": [
      "       order_number  order_dow  order_hour_of_day  days_since_prior_order\n",
      "count     11.000000  11.000000          11.000000               10.000000\n",
      "mean       6.000000   2.636364          10.090909               19.000000\n",
      "std        3.316625   1.286291           3.477198                9.030811\n",
      "min        1.000000   1.000000           7.000000                0.000000\n",
      "25%        3.500000   1.500000           7.500000               14.250000\n",
      "50%        6.000000   3.000000           8.000000               19.500000\n",
      "75%        8.500000   4.000000          13.000000               26.250000\n",
      "max       11.000000   4.000000          16.000000               30.000000\n"
     ]
    }
   ],
   "source": [
    "# Print descriptive stats for user 1\n",
    "print(df_user_1.describe())"
   ]
  },
  {
   "cell_type": "markdown",
   "id": "13934e4b-4482-45fd-87b7-f7e775025a64",
   "metadata": {},
   "source": [
    "# 13. Exercise Step 12"
   ]
  },
  {
   "cell_type": "code",
   "execution_count": 109,
   "id": "c1f83a04-25ab-4e13-977d-df13243380b5",
   "metadata": {},
   "outputs": [],
   "source": [
    "# Export df_ords\n",
    "df_ords.to_csv(os.path.join(path, '02 Data','Prepared Data', 'orders_wrangled.csv'))"
   ]
  },
  {
   "cell_type": "markdown",
   "id": "84a3404d-c5ab-4dcb-a7d9-30feb4fc1668",
   "metadata": {},
   "source": [
    "# 14. Exercise Step 13"
   ]
  },
  {
   "cell_type": "code",
   "execution_count": 111,
   "id": "300cdd68-a1db-43a3-8f0f-d89210a54aad",
   "metadata": {},
   "outputs": [],
   "source": [
    "# Export df_depts_t_new\n",
    "df_depts_t_new.to_csv(os.path.join(path, '02 Data','Prepared Data', 'departments_wrangled.csv'))"
   ]
  }
 ],
 "metadata": {
  "kernelspec": {
   "display_name": "Python [conda env:base] *",
   "language": "python",
   "name": "conda-base-py"
  },
  "language_info": {
   "codemirror_mode": {
    "name": "ipython",
    "version": 3
   },
   "file_extension": ".py",
   "mimetype": "text/x-python",
   "name": "python",
   "nbconvert_exporter": "python",
   "pygments_lexer": "ipython3",
   "version": "3.12.7"
  }
 },
 "nbformat": 4,
 "nbformat_minor": 5
}
