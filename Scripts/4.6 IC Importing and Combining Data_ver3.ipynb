{
 "cells": [
  {
   "cell_type": "markdown",
   "id": "a347a7b7-cc44-447b-b6fd-0044981cb98b",
   "metadata": {},
   "source": [
    "# 01. Import libraries and data"
   ]
  },
  {
   "cell_type": "code",
   "execution_count": null,
   "id": "fc49eece-ea5d-4fba-abc4-3679fe606c21",
   "metadata": {},
   "outputs": [],
   "source": [
    "# Import libraries\n",
    "\n",
    "import pandas as pd\n",
    "import numpy as np\n",
    "import os\n",
    "# Set path\n",
    "path = r'/home/scruffy/anaconda_projects/Instacart Basket Analysis/'\n",
    "# Import data to dataframes\n",
    "# df_ords = pd.read_csv(os.path.join(path, '02 Data', 'Prepared Data', 'orders_checked.csv'))\n",
    "df_prods = pd.read_csv(os.path.join(path, '02 Data', 'Prepared Data', 'products_checked_corrected.csv'))\n",
    "df_ords_prods = pd.read_csv(os.path.join(path, '02 Data','Prepared Data', 'ords_prods_merged.csv'))\n",
    "cust = pd.read_csv(os.path.join(path, '02 Data', 'Original Data', 'customers.csv'))"
   ]
  },
  {
   "cell_type": "code",
   "execution_count": null,
   "id": "c1e228f4-f5af-440c-b966-a9b12490e25b",
   "metadata": {},
   "outputs": [],
   "source": [
    "df_prods[df_prods['aisle_id']"
   ]
  },
  {
   "cell_type": "markdown",
   "id": "eace6c12-c0dc-4cec-9fd6-8a15d3ef26d3",
   "metadata": {},
   "source": [
    "# 02. Check imported data"
   ]
  },
  {
   "cell_type": "code",
   "execution_count": 4,
   "id": "5056ce19-67db-478b-a059-e4f33ca0f832",
   "metadata": {},
   "outputs": [
    {
     "name": "stdout",
     "output_type": "stream",
     "text": [
      "<class 'pandas.core.frame.DataFrame'>\n",
      "RangeIndex: 32434489 entries, 0 to 32434488\n",
      "Data columns (total 9 columns):\n",
      " #   Column                  Dtype  \n",
      "---  ------                  -----  \n",
      " 0   order_id                int64  \n",
      " 1   user_id                 int64  \n",
      " 2   order_number            int64  \n",
      " 3   order_dow               int64  \n",
      " 4   order_hour_of_day       int64  \n",
      " 5   days_since_prior_order  float64\n",
      " 6   product_id              int64  \n",
      " 7   add_to_cart_order       int64  \n",
      " 8   reordered               int64  \n",
      "dtypes: float64(1), int64(8)\n",
      "memory usage: 2.2 GB\n"
     ]
    }
   ],
   "source": [
    "# Check merged DataFrame import\n",
    "df_ords_prods.shape\n",
    "df_ords_prods.head()\n",
    "df_ords_prods.info()"
   ]
  },
  {
   "cell_type": "code",
   "execution_count": 5,
   "id": "478891e0-79c1-427b-8c1d-340270b21879",
   "metadata": {},
   "outputs": [],
   "source": [
    "df_ords_prods['order_id']=df_ords_prods['order_id'].astype('int32')\n",
    "df_ords_prods['user_id'] = df_ords_prods['user_id'].astype('int32')\n",
    "df_ords_prods['order_number']=df_ords_prods['order_number'].astype('int8')\n",
    "df_ords_prods['order_dow']=df_ords_prods['order_dow'].astype('int8')\n",
    "df_ords_prods['order_hour_of_day']=df_ords_prods['order_hour_of_day'].astype('int8')\n",
    "df_ords_prods['days_since_prior_order']=df_ords_prods['days_since_prior_order'].astype('float16')\n",
    "df_ords_prods['product_id'] =df_ords_prods['product_id'].astype('int32')\n",
    "df_ords_prods['reordered']=df_ords_prods['reordered'].astype('int8')\n",
    "df_ords_prods['add_to_cart_order']=df_ords_prods['add_to_cart_order'].astype('int32')"
   ]
  },
  {
   "cell_type": "code",
   "execution_count": 6,
   "id": "2b231551-d34a-482b-ad18-d8d1334b5307",
   "metadata": {},
   "outputs": [
    {
     "name": "stdout",
     "output_type": "stream",
     "text": [
      "<class 'pandas.core.frame.DataFrame'>\n",
      "RangeIndex: 32434489 entries, 0 to 32434488\n",
      "Data columns (total 9 columns):\n",
      " #   Column                  Dtype  \n",
      "---  ------                  -----  \n",
      " 0   order_id                int32  \n",
      " 1   user_id                 int32  \n",
      " 2   order_number            int8   \n",
      " 3   order_dow               int8   \n",
      " 4   order_hour_of_day       int8   \n",
      " 5   days_since_prior_order  float16\n",
      " 6   product_id              int32  \n",
      " 7   add_to_cart_order       int32  \n",
      " 8   reordered               int8   \n",
      "dtypes: float16(1), int32(4), int8(4)\n",
      "memory usage: 680.5 MB\n"
     ]
    }
   ],
   "source": [
    "df_ords_prods.info()"
   ]
  },
  {
   "cell_type": "code",
   "execution_count": 7,
   "id": "48fcc332-70b5-45be-a909-6901663c441b",
   "metadata": {},
   "outputs": [
    {
     "name": "stdout",
     "output_type": "stream",
     "text": [
      "<class 'pandas.core.frame.DataFrame'>\n",
      "RangeIndex: 49672 entries, 0 to 49671\n",
      "Data columns (total 5 columns):\n",
      " #   Column         Non-Null Count  Dtype  \n",
      "---  ------         --------------  -----  \n",
      " 0   product_id     49672 non-null  int64  \n",
      " 1   product_name   49672 non-null  object \n",
      " 2   aisle_id       49672 non-null  int64  \n",
      " 3   department_id  49672 non-null  int64  \n",
      " 4   prices         49670 non-null  float64\n",
      "dtypes: float64(1), int64(3), object(1)\n",
      "memory usage: 1.9+ MB\n"
     ]
    }
   ],
   "source": [
    "# Check products_checked import\n",
    "df_prods.info()"
   ]
  },
  {
   "cell_type": "code",
   "execution_count": 8,
   "id": "fe6d0660-24c3-458a-82c2-8e06cd1b6e7a",
   "metadata": {},
   "outputs": [],
   "source": [
    "# Change products_checked column data types\n",
    "df_prods['product_id'] = df_prods['product_id'].astype('int32')\n",
    "df_prods['aisle_id'] = df_prods['aisle_id'].astype('int8')\n",
    "df_prods['department_id'] = df_prods['department_id'].astype('int8')\n",
    "df_prods['prices'] = df_prods['prices'].astype('float16')"
   ]
  },
  {
   "cell_type": "code",
   "execution_count": 9,
   "id": "e9f972d7-dab3-42be-8351-14c021f751dc",
   "metadata": {},
   "outputs": [
    {
     "name": "stdout",
     "output_type": "stream",
     "text": [
      "<class 'pandas.core.frame.DataFrame'>\n",
      "RangeIndex: 49672 entries, 0 to 49671\n",
      "Data columns (total 5 columns):\n",
      " #   Column         Non-Null Count  Dtype  \n",
      "---  ------         --------------  -----  \n",
      " 0   product_id     49672 non-null  int32  \n",
      " 1   product_name   49672 non-null  object \n",
      " 2   aisle_id       49672 non-null  int8   \n",
      " 3   department_id  49672 non-null  int8   \n",
      " 4   prices         49670 non-null  float16\n",
      "dtypes: float16(1), int32(1), int8(2), object(1)\n",
      "memory usage: 776.3+ KB\n"
     ]
    }
   ],
   "source": [
    "# Check result\n",
    "df_prods.info()"
   ]
  },
  {
   "cell_type": "code",
   "execution_count": 10,
   "id": "065d6857-b1bb-45cc-9f19-d6ae3f9d969c",
   "metadata": {},
   "outputs": [],
   "source": [
    "cust.rename(columns = {'First Name' : 'first_name', 'Surnam' : 'last_name', 'Gender' : 'gender', 'STATE' : 'state', 'Age' : 'age', 'n_dependants' : 'n_dependents'}, inplace = True)"
   ]
  },
  {
   "cell_type": "code",
   "execution_count": 11,
   "id": "7a5db7e1-772f-433a-a479-14ba1c45ce41",
   "metadata": {},
   "outputs": [],
   "source": [
    "cust['user_id'] = cust['user_id'].astype('int32')\n",
    "cust['age'] = cust['age'].astype('int8')\n",
    "cust['n_dependents'] = cust['n_dependents'].astype('int8')\n",
    "cust['income'] = cust['income'].astype('int32')"
   ]
  },
  {
   "cell_type": "markdown",
   "id": "5170f628-7c3a-467c-9d47-8c85cb3dff87",
   "metadata": {},
   "source": [
    "# 03. Merge DataFrames"
   ]
  },
  {
   "cell_type": "code",
   "execution_count": 14,
   "id": "dc1b5426-ca7f-429f-bbb3-4ab5c85fec6e",
   "metadata": {},
   "outputs": [],
   "source": [
    "# Merge products_checked and orders_products_combined\n",
    "df_merged_large = df_prods.merge(df_ords_prods, on = 'product_id', indicator = True)"
   ]
  },
  {
   "cell_type": "markdown",
   "id": "1d24985c-1137-459f-96b0-d72b1ca1c56b",
   "metadata": {},
   "source": [
    "# 04. Check merged DataFrame"
   ]
  },
  {
   "cell_type": "code",
   "execution_count": 16,
   "id": "bb16a8fc-a496-44b4-94c7-da32a1b1df7d",
   "metadata": {},
   "outputs": [
    {
     "name": "stdout",
     "output_type": "stream",
     "text": [
      "   product_id                product_name  aisle_id  department_id    prices  \\\n",
      "0           1  Chocolate Sandwich Cookies        61             19  5.800781   \n",
      "1           1  Chocolate Sandwich Cookies        61             19  5.800781   \n",
      "2           1  Chocolate Sandwich Cookies        61             19  5.800781   \n",
      "3           1  Chocolate Sandwich Cookies        61             19  5.800781   \n",
      "4           1  Chocolate Sandwich Cookies        61             19  5.800781   \n",
      "\n",
      "   order_id  user_id  order_number  order_dow  order_hour_of_day  \\\n",
      "0   3139998      138            28          6                 11   \n",
      "1   1977647      138            30          6                 17   \n",
      "2    389851      709             2          0                 21   \n",
      "3    652770      764             1          3                 13   \n",
      "4   1813452      764             3          4                 17   \n",
      "\n",
      "   days_since_prior_order  add_to_cart_order  reordered _merge  \n",
      "0                     3.0                  5          0   both  \n",
      "1                    20.0                  1          1   both  \n",
      "2                     6.0                 20          0   both  \n",
      "3                     NaN                 10          0   both  \n",
      "4                     9.0                 11          1   both  \n",
      "_merge\n",
      "both          32404859\n",
      "left_only            0\n",
      "right_only           0\n",
      "Name: count, dtype: int64\n",
      "(32404859, 14)\n",
      "<class 'pandas.core.frame.DataFrame'>\n",
      "RangeIndex: 32404859 entries, 0 to 32404858\n",
      "Data columns (total 14 columns):\n",
      " #   Column                  Dtype   \n",
      "---  ------                  -----   \n",
      " 0   product_id              int32   \n",
      " 1   product_name            object  \n",
      " 2   aisle_id                int8    \n",
      " 3   department_id           int8    \n",
      " 4   prices                  float16 \n",
      " 5   order_id                int32   \n",
      " 6   user_id                 int32   \n",
      " 7   order_number            int8    \n",
      " 8   order_dow               int8    \n",
      " 9   order_hour_of_day       int8    \n",
      " 10  days_since_prior_order  float16 \n",
      " 11  add_to_cart_order       int32   \n",
      " 12  reordered               int8    \n",
      " 13  _merge                  category\n",
      "dtypes: category(1), float16(2), int32(4), int8(6), object(1)\n",
      "memory usage: 1.1+ GB\n",
      "None\n"
     ]
    }
   ],
   "source": [
    "# Check result\n",
    "print(df_merged_large.head())\n",
    "print(df_merged_large['_merge'].value_counts())\n",
    "print(df_merged_large.shape)\n",
    "print(df_merged_large.info())"
   ]
  },
  {
   "cell_type": "code",
   "execution_count": 30,
   "id": "02e3b6c1-e9bd-4dec-a8bc-831301882b13",
   "metadata": {},
   "outputs": [],
   "source": [
    "# Merge df_merged_large and customers\n",
    "df_merged_large.drop(['_merge'], axis=1, inplace=True)\n",
    "df_cust_merge = df_merged_large.merge(cust, on = 'user_id', indicator = True)"
   ]
  },
  {
   "cell_type": "code",
   "execution_count": null,
   "id": "1eb5e4c9-b83a-4848-bfb8-9d023d79cf9e",
   "metadata": {},
   "outputs": [],
   "source": [
    "print(df_cust_merge.head())\n",
    "print(df_cust_merge['_merge'].value_counts())\n",
    "print(df_cust_merge.shape)\n",
    "print(df_cust_merge.info())"
   ]
  },
  {
   "cell_type": "markdown",
   "id": "32b2f682-11b8-4ec4-8b77-17a7c0a73bee",
   "metadata": {},
   "source": [
    "# 05. Export to pkl"
   ]
  },
  {
   "cell_type": "code",
   "execution_count": 32,
   "id": "d3f9c0bc-73ce-4971-94f7-7e69f4c74284",
   "metadata": {},
   "outputs": [],
   "source": [
    "df_cust_merge.drop(['_merge'], axis=1, inplace=True)"
   ]
  },
  {
   "cell_type": "code",
   "execution_count": 34,
   "id": "44a22432-fe8f-45bf-abd2-86ea41440a3f",
   "metadata": {},
   "outputs": [],
   "source": [
    "# Delete _merge flag and export DataFrame to pickle file\n",
    "df_cust_merge.to_pickle(os.path.join(path, '02 Data','Prepared Data', 'ords_prods_cust_merge.pkl'))"
   ]
  }
 ],
 "metadata": {
  "kernelspec": {
   "display_name": "Python [conda env:base] *",
   "language": "python",
   "name": "conda-base-py"
  },
  "language_info": {
   "codemirror_mode": {
    "name": "ipython",
    "version": 3
   },
   "file_extension": ".py",
   "mimetype": "text/x-python",
   "name": "python",
   "nbconvert_exporter": "python",
   "pygments_lexer": "ipython3",
   "version": "3.12.7"
  }
 },
 "nbformat": 4,
 "nbformat_minor": 5
}
